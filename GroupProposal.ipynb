{
 "cells": [
  {
   "cell_type": "markdown",
   "id": "17deb193-f1f6-45cf-a5c3-1b01e2a90497",
   "metadata": {},
   "source": [
    "Title: Analysis of Heart Disease Data to Predict Likelihood of Disease in an Individual."
   ]
  },
  {
   "cell_type": "markdown",
   "id": "c0a680e8-4e65-494b-a81c-4e51ddae0d03",
   "metadata": {},
   "source": [
    "Introduction: Heart disease is the second most common cause of death in Canada. Coronary artery disease is one of the most prevalent kind of heart disease and can result in a heart attack. It has been proven that lifestyle modifications and, in certain situations, medication, can significantly lower your chance for developing heart disease. In this analysis we will aim to answer the question: what factors can help us predict whether an individual will have heart disease? To answer this question we will be using a heart disease dataset that has information on 303 patients with 14 columns containing data about different medical information. The class we want to predict is wether or not heart disease is present in an individual based on evaluating three predictors: cholesterol levels, blood sugar levels and age, which are all known factors that effect the probability of a patient being diagnosed with heart disease."
   ]
  },
  {
   "cell_type": "code",
   "execution_count": 60,
   "id": "57df3a93-977d-49d4-989b-d720b7fcef07",
   "metadata": {},
   "outputs": [
    {
     "data": {
      "text/html": [
       "<table class=\"dataframe\">\n",
       "<caption>A data.frame: 9 × 4</caption>\n",
       "<thead>\n",
       "\t<tr><th></th><th scope=col>age</th><th scope=col>blood_pressure</th><th scope=col>cholesterol</th><th scope=col>disease_presence</th></tr>\n",
       "\t<tr><th></th><th scope=col>&lt;dbl&gt;</th><th scope=col>&lt;dbl&gt;</th><th scope=col>&lt;dbl&gt;</th><th scope=col>&lt;fct&gt;</th></tr>\n",
       "</thead>\n",
       "<tbody>\n",
       "\t<tr><th scope=row>1</th><td>67</td><td>160</td><td>286</td><td>2</td></tr>\n",
       "\t<tr><th scope=row>2</th><td>67</td><td>120</td><td>229</td><td>1</td></tr>\n",
       "\t<tr><th scope=row>3</th><td>37</td><td>130</td><td>250</td><td>0</td></tr>\n",
       "\t<tr><th scope=row>4</th><td>41</td><td>130</td><td>204</td><td>0</td></tr>\n",
       "\t<tr><th scope=row>5</th><td>56</td><td>120</td><td>236</td><td>0</td></tr>\n",
       "\t<tr><th scope=row>6</th><td>62</td><td>140</td><td>268</td><td>3</td></tr>\n",
       "\t<tr><th scope=row>7</th><td>57</td><td>120</td><td>354</td><td>0</td></tr>\n",
       "\t<tr><th scope=row>8</th><td>63</td><td>130</td><td>254</td><td>2</td></tr>\n",
       "\t<tr><th scope=row>9</th><td>53</td><td>140</td><td>203</td><td>1</td></tr>\n",
       "</tbody>\n",
       "</table>\n"
      ],
      "text/latex": [
       "A data.frame: 9 × 4\n",
       "\\begin{tabular}{r|llll}\n",
       "  & age & blood\\_pressure & cholesterol & disease\\_presence\\\\\n",
       "  & <dbl> & <dbl> & <dbl> & <fct>\\\\\n",
       "\\hline\n",
       "\t1 & 67 & 160 & 286 & 2\\\\\n",
       "\t2 & 67 & 120 & 229 & 1\\\\\n",
       "\t3 & 37 & 130 & 250 & 0\\\\\n",
       "\t4 & 41 & 130 & 204 & 0\\\\\n",
       "\t5 & 56 & 120 & 236 & 0\\\\\n",
       "\t6 & 62 & 140 & 268 & 3\\\\\n",
       "\t7 & 57 & 120 & 354 & 0\\\\\n",
       "\t8 & 63 & 130 & 254 & 2\\\\\n",
       "\t9 & 53 & 140 & 203 & 1\\\\\n",
       "\\end{tabular}\n"
      ],
      "text/markdown": [
       "\n",
       "A data.frame: 9 × 4\n",
       "\n",
       "| <!--/--> | age &lt;dbl&gt; | blood_pressure &lt;dbl&gt; | cholesterol &lt;dbl&gt; | disease_presence &lt;fct&gt; |\n",
       "|---|---|---|---|---|\n",
       "| 1 | 67 | 160 | 286 | 2 |\n",
       "| 2 | 67 | 120 | 229 | 1 |\n",
       "| 3 | 37 | 130 | 250 | 0 |\n",
       "| 4 | 41 | 130 | 204 | 0 |\n",
       "| 5 | 56 | 120 | 236 | 0 |\n",
       "| 6 | 62 | 140 | 268 | 3 |\n",
       "| 7 | 57 | 120 | 354 | 0 |\n",
       "| 8 | 63 | 130 | 254 | 2 |\n",
       "| 9 | 53 | 140 | 203 | 1 |\n",
       "\n"
      ],
      "text/plain": [
       "  age blood_pressure cholesterol disease_presence\n",
       "1 67  160            286         2               \n",
       "2 67  120            229         1               \n",
       "3 37  130            250         0               \n",
       "4 41  130            204         0               \n",
       "5 56  120            236         0               \n",
       "6 62  140            268         3               \n",
       "7 57  120            354         0               \n",
       "8 63  130            254         2               \n",
       "9 53  140            203         1               "
      ]
     },
     "metadata": {},
     "output_type": "display_data"
    }
   ],
   "source": [
    "#Demonstrate that the dataset can be read from the web into R\n",
    " #read data\n",
    "library(tidyverse)\n",
    "library(tidymodels)\n",
    "heart_disease <- read.csv(\"https://archive.ics.uci.edu/ml/machine-learning-databases/heart-disease/processed.cleveland.data\")\n",
    "    #rename columns\n",
    "    names(heart_disease) <- c(\"age\", \"sex\", \"chest_pain\", \"blood_pressure\", \"cholesterol\", \"blood_sugar\", \"EKG\", \"heart_rate\", \"angina\", \"ST_depression\", \"ST_slope\", \"fluro\", \"thallium\", \"presence_of_disease\")\n",
    "disease_data <- heart_disease |>\n",
    "    #make wether or not a patient has the diseaes a fct\n",
    "    mutate (disease_presence =as_factor(presence_of_disease))|>\n",
    "    #select the three predictors that we want to examine\n",
    "    select (age, blood_pressure, cholesterol, disease_presence)\n",
    " #display the first 9 rows of the data\n",
    "head(disease_data, n = 9)\n"
   ]
  },
  {
   "cell_type": "code",
   "execution_count": 60,
   "id": "3edfbc2e-c2f2-4b17-9ce8-82cddd84d284",
   "metadata": {},
   "outputs": [
    {
     "data": {
      "text/html": [
       "<table class=\"dataframe\">\n",
       "<caption>A data.frame: 9 × 4</caption>\n",
       "<thead>\n",
       "\t<tr><th></th><th scope=col>age</th><th scope=col>blood_pressure</th><th scope=col>cholesterol</th><th scope=col>disease_presence</th></tr>\n",
       "\t<tr><th></th><th scope=col>&lt;dbl&gt;</th><th scope=col>&lt;dbl&gt;</th><th scope=col>&lt;dbl&gt;</th><th scope=col>&lt;fct&gt;</th></tr>\n",
       "</thead>\n",
       "<tbody>\n",
       "\t<tr><th scope=row>1</th><td>67</td><td>160</td><td>286</td><td>2</td></tr>\n",
       "\t<tr><th scope=row>2</th><td>67</td><td>120</td><td>229</td><td>1</td></tr>\n",
       "\t<tr><th scope=row>3</th><td>37</td><td>130</td><td>250</td><td>0</td></tr>\n",
       "\t<tr><th scope=row>4</th><td>41</td><td>130</td><td>204</td><td>0</td></tr>\n",
       "\t<tr><th scope=row>5</th><td>56</td><td>120</td><td>236</td><td>0</td></tr>\n",
       "\t<tr><th scope=row>6</th><td>62</td><td>140</td><td>268</td><td>3</td></tr>\n",
       "\t<tr><th scope=row>7</th><td>57</td><td>120</td><td>354</td><td>0</td></tr>\n",
       "\t<tr><th scope=row>8</th><td>63</td><td>130</td><td>254</td><td>2</td></tr>\n",
       "\t<tr><th scope=row>9</th><td>53</td><td>140</td><td>203</td><td>1</td></tr>\n",
       "</tbody>\n",
       "</table>\n"
      ],
      "text/latex": [
       "A data.frame: 9 × 4\n",
       "\\begin{tabular}{r|llll}\n",
       "  & age & blood\\_pressure & cholesterol & disease\\_presence\\\\\n",
       "  & <dbl> & <dbl> & <dbl> & <fct>\\\\\n",
       "\\hline\n",
       "\t1 & 67 & 160 & 286 & 2\\\\\n",
       "\t2 & 67 & 120 & 229 & 1\\\\\n",
       "\t3 & 37 & 130 & 250 & 0\\\\\n",
       "\t4 & 41 & 130 & 204 & 0\\\\\n",
       "\t5 & 56 & 120 & 236 & 0\\\\\n",
       "\t6 & 62 & 140 & 268 & 3\\\\\n",
       "\t7 & 57 & 120 & 354 & 0\\\\\n",
       "\t8 & 63 & 130 & 254 & 2\\\\\n",
       "\t9 & 53 & 140 & 203 & 1\\\\\n",
       "\\end{tabular}\n"
      ],
      "text/markdown": [
       "\n",
       "A data.frame: 9 × 4\n",
       "\n",
       "| <!--/--> | age &lt;dbl&gt; | blood_pressure &lt;dbl&gt; | cholesterol &lt;dbl&gt; | disease_presence &lt;fct&gt; |\n",
       "|---|---|---|---|---|\n",
       "| 1 | 67 | 160 | 286 | 2 |\n",
       "| 2 | 67 | 120 | 229 | 1 |\n",
       "| 3 | 37 | 130 | 250 | 0 |\n",
       "| 4 | 41 | 130 | 204 | 0 |\n",
       "| 5 | 56 | 120 | 236 | 0 |\n",
       "| 6 | 62 | 140 | 268 | 3 |\n",
       "| 7 | 57 | 120 | 354 | 0 |\n",
       "| 8 | 63 | 130 | 254 | 2 |\n",
       "| 9 | 53 | 140 | 203 | 1 |\n",
       "\n"
      ],
      "text/plain": [
       "  age blood_pressure cholesterol disease_presence\n",
       "1 67  160            286         2               \n",
       "2 67  120            229         1               \n",
       "3 37  130            250         0               \n",
       "4 41  130            204         0               \n",
       "5 56  120            236         0               \n",
       "6 62  140            268         3               \n",
       "7 57  120            354         0               \n",
       "8 63  130            254         2               \n",
       "9 53  140            203         1               "
      ]
     },
     "metadata": {},
     "output_type": "display_data"
    }
   ],
   "source": [
    "#Demonstrate that the dataset can be read from the web into R\n",
    " #read data\n",
    "library(tidyverse)\n",
    "library(tidymodels)\n",
    "heart_disease <- read.csv(\"https://archive.ics.uci.edu/ml/machine-learning-databases/heart-disease/processed.cleveland.data\")\n",
    "    #rename columns\n",
    "    names(heart_disease) <- c(\"age\", \"sex\", \"chest_pain\", \"blood_pressure\", \"cholesterol\", \"blood_sugar\", \"EKG\", \"heart_rate\", \"angina\", \"ST_depression\", \"ST_slope\", \"fluro\", \"thallium\", \"presence_of_disease\")\n",
    "disease_data <- heart_disease |>\n",
    "    #make wether or not a patient has the diseaes a fct\n",
    "    mutate (disease_presence =as_factor(presence_of_disease))|>\n",
    "    #select the three predictors that we want to examine\n",
    "    select (age, blood_pressure, cholesterol, disease_presence)\n",
    " #display the first 9 rows of the data\n",
    "head(disease_data, n = 9)\n"
   ]
  },
  {
   "cell_type": "code",
   "execution_count": 65,
   "id": "6481fa07-1fd6-42e6-9dae-bde8f4934080",
   "metadata": {},
   "outputs": [
    {
     "data": {
      "text/html": [
       "<table class=\"dataframe\">\n",
       "<caption>A data.frame: 9 × 4</caption>\n",
       "<thead>\n",
       "\t<tr><th></th><th scope=col>age</th><th scope=col>blood_pressure</th><th scope=col>cholesterol</th><th scope=col>disease_presence</th></tr>\n",
       "\t<tr><th></th><th scope=col>&lt;dbl&gt;</th><th scope=col>&lt;dbl&gt;</th><th scope=col>&lt;dbl&gt;</th><th scope=col>&lt;fct&gt;</th></tr>\n",
       "</thead>\n",
       "<tbody>\n",
       "\t<tr><th scope=row>1</th><td>67</td><td>160</td><td>286</td><td>1</td></tr>\n",
       "\t<tr><th scope=row>2</th><td>67</td><td>120</td><td>229</td><td>1</td></tr>\n",
       "\t<tr><th scope=row>3</th><td>37</td><td>130</td><td>250</td><td>0</td></tr>\n",
       "\t<tr><th scope=row>4</th><td>41</td><td>130</td><td>204</td><td>0</td></tr>\n",
       "\t<tr><th scope=row>5</th><td>56</td><td>120</td><td>236</td><td>0</td></tr>\n",
       "\t<tr><th scope=row>6</th><td>62</td><td>140</td><td>268</td><td>1</td></tr>\n",
       "\t<tr><th scope=row>7</th><td>57</td><td>120</td><td>354</td><td>0</td></tr>\n",
       "\t<tr><th scope=row>8</th><td>63</td><td>130</td><td>254</td><td>1</td></tr>\n",
       "\t<tr><th scope=row>9</th><td>53</td><td>140</td><td>203</td><td>1</td></tr>\n",
       "</tbody>\n",
       "</table>\n"
      ],
      "text/latex": [
       "A data.frame: 9 × 4\n",
       "\\begin{tabular}{r|llll}\n",
       "  & age & blood\\_pressure & cholesterol & disease\\_presence\\\\\n",
       "  & <dbl> & <dbl> & <dbl> & <fct>\\\\\n",
       "\\hline\n",
       "\t1 & 67 & 160 & 286 & 1\\\\\n",
       "\t2 & 67 & 120 & 229 & 1\\\\\n",
       "\t3 & 37 & 130 & 250 & 0\\\\\n",
       "\t4 & 41 & 130 & 204 & 0\\\\\n",
       "\t5 & 56 & 120 & 236 & 0\\\\\n",
       "\t6 & 62 & 140 & 268 & 1\\\\\n",
       "\t7 & 57 & 120 & 354 & 0\\\\\n",
       "\t8 & 63 & 130 & 254 & 1\\\\\n",
       "\t9 & 53 & 140 & 203 & 1\\\\\n",
       "\\end{tabular}\n"
      ],
      "text/markdown": [
       "\n",
       "A data.frame: 9 × 4\n",
       "\n",
       "| <!--/--> | age &lt;dbl&gt; | blood_pressure &lt;dbl&gt; | cholesterol &lt;dbl&gt; | disease_presence &lt;fct&gt; |\n",
       "|---|---|---|---|---|\n",
       "| 1 | 67 | 160 | 286 | 1 |\n",
       "| 2 | 67 | 120 | 229 | 1 |\n",
       "| 3 | 37 | 130 | 250 | 0 |\n",
       "| 4 | 41 | 130 | 204 | 0 |\n",
       "| 5 | 56 | 120 | 236 | 0 |\n",
       "| 6 | 62 | 140 | 268 | 1 |\n",
       "| 7 | 57 | 120 | 354 | 0 |\n",
       "| 8 | 63 | 130 | 254 | 1 |\n",
       "| 9 | 53 | 140 | 203 | 1 |\n",
       "\n"
      ],
      "text/plain": [
       "  age blood_pressure cholesterol disease_presence\n",
       "1 67  160            286         1               \n",
       "2 67  120            229         1               \n",
       "3 37  130            250         0               \n",
       "4 41  130            204         0               \n",
       "5 56  120            236         0               \n",
       "6 62  140            268         1               \n",
       "7 57  120            354         0               \n",
       "8 63  130            254         1               \n",
       "9 53  140            203         1               "
      ]
     },
     "metadata": {},
     "output_type": "display_data"
    },
    {
     "data": {
      "text/html": [
       "<table class=\"dataframe\">\n",
       "<caption>A data.frame: 3 × 4</caption>\n",
       "<thead>\n",
       "\t<tr><th></th><th scope=col>age</th><th scope=col>blood_pressure</th><th scope=col>cholesterol</th><th scope=col>disease_presence</th></tr>\n",
       "\t<tr><th></th><th scope=col>&lt;dbl&gt;</th><th scope=col>&lt;dbl&gt;</th><th scope=col>&lt;dbl&gt;</th><th scope=col>&lt;fct&gt;</th></tr>\n",
       "</thead>\n",
       "<tbody>\n",
       "\t<tr><th scope=row>4</th><td>41</td><td>130</td><td>204</td><td>0</td></tr>\n",
       "\t<tr><th scope=row>5</th><td>56</td><td>120</td><td>236</td><td>0</td></tr>\n",
       "\t<tr><th scope=row>7</th><td>57</td><td>120</td><td>354</td><td>0</td></tr>\n",
       "</tbody>\n",
       "</table>\n"
      ],
      "text/latex": [
       "A data.frame: 3 × 4\n",
       "\\begin{tabular}{r|llll}\n",
       "  & age & blood\\_pressure & cholesterol & disease\\_presence\\\\\n",
       "  & <dbl> & <dbl> & <dbl> & <fct>\\\\\n",
       "\\hline\n",
       "\t4 & 41 & 130 & 204 & 0\\\\\n",
       "\t5 & 56 & 120 & 236 & 0\\\\\n",
       "\t7 & 57 & 120 & 354 & 0\\\\\n",
       "\\end{tabular}\n"
      ],
      "text/markdown": [
       "\n",
       "A data.frame: 3 × 4\n",
       "\n",
       "| <!--/--> | age &lt;dbl&gt; | blood_pressure &lt;dbl&gt; | cholesterol &lt;dbl&gt; | disease_presence &lt;fct&gt; |\n",
       "|---|---|---|---|---|\n",
       "| 4 | 41 | 130 | 204 | 0 |\n",
       "| 5 | 56 | 120 | 236 | 0 |\n",
       "| 7 | 57 | 120 | 354 | 0 |\n",
       "\n"
      ],
      "text/plain": [
       "  age blood_pressure cholesterol disease_presence\n",
       "4 41  130            204         0               \n",
       "5 56  120            236         0               \n",
       "7 57  120            354         0               "
      ]
     },
     "metadata": {},
     "output_type": "display_data"
    },
    {
     "data": {
      "text/html": [
       "<table class=\"dataframe\">\n",
       "<caption>A data.frame: 3 × 4</caption>\n",
       "<thead>\n",
       "\t<tr><th></th><th scope=col>age</th><th scope=col>blood_pressure</th><th scope=col>cholesterol</th><th scope=col>disease_presence</th></tr>\n",
       "\t<tr><th></th><th scope=col>&lt;dbl&gt;</th><th scope=col>&lt;dbl&gt;</th><th scope=col>&lt;dbl&gt;</th><th scope=col>&lt;fct&gt;</th></tr>\n",
       "</thead>\n",
       "<tbody>\n",
       "\t<tr><th scope=row>3</th><td>37</td><td>130</td><td>250</td><td>0</td></tr>\n",
       "\t<tr><th scope=row>9</th><td>53</td><td>140</td><td>203</td><td>1</td></tr>\n",
       "\t<tr><th scope=row>10</th><td>57</td><td>140</td><td>192</td><td>0</td></tr>\n",
       "</tbody>\n",
       "</table>\n"
      ],
      "text/latex": [
       "A data.frame: 3 × 4\n",
       "\\begin{tabular}{r|llll}\n",
       "  & age & blood\\_pressure & cholesterol & disease\\_presence\\\\\n",
       "  & <dbl> & <dbl> & <dbl> & <fct>\\\\\n",
       "\\hline\n",
       "\t3 & 37 & 130 & 250 & 0\\\\\n",
       "\t9 & 53 & 140 & 203 & 1\\\\\n",
       "\t10 & 57 & 140 & 192 & 0\\\\\n",
       "\\end{tabular}\n"
      ],
      "text/markdown": [
       "\n",
       "A data.frame: 3 × 4\n",
       "\n",
       "| <!--/--> | age &lt;dbl&gt; | blood_pressure &lt;dbl&gt; | cholesterol &lt;dbl&gt; | disease_presence &lt;fct&gt; |\n",
       "|---|---|---|---|---|\n",
       "| 3 | 37 | 130 | 250 | 0 |\n",
       "| 9 | 53 | 140 | 203 | 1 |\n",
       "| 10 | 57 | 140 | 192 | 0 |\n",
       "\n"
      ],
      "text/plain": [
       "   age blood_pressure cholesterol disease_presence\n",
       "3  37  130            250         0               \n",
       "9  53  140            203         1               \n",
       "10 57  140            192         0               "
      ]
     },
     "metadata": {},
     "output_type": "display_data"
    }
   ],
   "source": [
    "#Clean and wrangle your data into a tidy format\n",
    "    #make column of disease presence binary (by making all values bigger than 1 equal to 1)\n",
    "disease_data [\"disease_presence\"][disease_data[\"disease_presence\"] == 2] <- \"1\"\n",
    "disease_data [\"disease_presence\"][disease_data[\"disease_presence\"] == 3] <- \"1\"\n",
    "disease_data [\"disease_presence\"][disease_data[\"disease_presence\"] == 4] <- \"1\"\n",
    "disease_data [\"disease_presence\"][disease_data[\"disease_presence\"] == 5] <- \"1\"\n",
    "    head(disease_data, n = 9)    \n",
    "\n",
    "    #split data into training and testing so we can use training data seperatly\n",
    "disease_split <- initial_split(disease_data, prop = 0.75, strata = disease_presence)  \n",
    "disease_training <- training(disease_split)   \n",
    "disease_testing <- testing(disease_split)\n",
    "  head(disease_training, n = 3)\n",
    "  head(disease_testing, n = 3)"
   ]
  },
  {
   "cell_type": "code",
   "execution_count": 67,
   "id": "cf709139-5021-44e0-95fc-272284cb26e4",
   "metadata": {},
   "outputs": [
    {
     "data": {
      "text/html": [
       "<table class=\"dataframe\">\n",
       "<caption>A tibble: 2 × 4</caption>\n",
       "<thead>\n",
       "\t<tr><th scope=col>disease_presence</th><th scope=col>avg_age</th><th scope=col>avg_blood_pressure</th><th scope=col>avg_cholesterol</th></tr>\n",
       "\t<tr><th scope=col>&lt;fct&gt;</th><th scope=col>&lt;dbl&gt;</th><th scope=col>&lt;dbl&gt;</th><th scope=col>&lt;dbl&gt;</th></tr>\n",
       "</thead>\n",
       "<tbody>\n",
       "\t<tr><td>0</td><td>53.60656</td><td>129.6148</td><td>242.8115</td></tr>\n",
       "\t<tr><td>1</td><td>56.88462</td><td>135.9135</td><td>253.0288</td></tr>\n",
       "</tbody>\n",
       "</table>\n"
      ],
      "text/latex": [
       "A tibble: 2 × 4\n",
       "\\begin{tabular}{llll}\n",
       " disease\\_presence & avg\\_age & avg\\_blood\\_pressure & avg\\_cholesterol\\\\\n",
       " <fct> & <dbl> & <dbl> & <dbl>\\\\\n",
       "\\hline\n",
       "\t 0 & 53.60656 & 129.6148 & 242.8115\\\\\n",
       "\t 1 & 56.88462 & 135.9135 & 253.0288\\\\\n",
       "\\end{tabular}\n"
      ],
      "text/markdown": [
       "\n",
       "A tibble: 2 × 4\n",
       "\n",
       "| disease_presence &lt;fct&gt; | avg_age &lt;dbl&gt; | avg_blood_pressure &lt;dbl&gt; | avg_cholesterol &lt;dbl&gt; |\n",
       "|---|---|---|---|\n",
       "| 0 | 53.60656 | 129.6148 | 242.8115 |\n",
       "| 1 | 56.88462 | 135.9135 | 253.0288 |\n",
       "\n"
      ],
      "text/plain": [
       "  disease_presence avg_age  avg_blood_pressure avg_cholesterol\n",
       "1 0                53.60656 129.6148           242.8115       \n",
       "2 1                56.88462 135.9135           253.0288       "
      ]
     },
     "metadata": {},
     "output_type": "display_data"
    }
   ],
   "source": [
    "#Using only training data, summarize the data in at least one table (this is exploratory data analysis). An example of a useful table could be one that reports the number of observations in each class, the means of the predictor variables you plan to use in your analysis and how many rows have missing data.\n",
    "#We created a table that groups the data into individuals who present heart disease and those who don't, and allows us to see the difference between the means of the three data columns that we are intereted in. \n",
    "disease_summary <- disease_training |> \n",
    "    group_by(disease_presence)|>\n",
    "    summarize(avg_age=mean(age), avg_blood_pressure=mean(blood_pressure), avg_cholesterol=mean(cholesterol))\n",
    "disease_summary"
   ]
  },
  {
   "cell_type": "code",
   "execution_count": 50,
   "id": "0358daa7-069c-4fb5-94d8-b4e34a0befd4",
   "metadata": {},
   "outputs": [],
   "source": [
    "#Using only training data, visualize the data with at least one plot relevant to the analysis you plan to do (this is exploratory data analysis). An example of a useful visualization could be one that compares the distributions of each of the predictor variables you plan to use in your analysis.\n",
    "#We created a plot that shows the difference in the \n",
    "disease_plot<- ggplot(disease_train,aes(x= \n",
    "            "
   ]
  },
  {
   "cell_type": "markdown",
   "id": "f171838a-951c-452c-b7aa-e6730a16e7a8",
   "metadata": {},
   "source": [
    "Method:\n",
    "Create a knn model of the training data\n",
    "\n",
    "\n",
    "Expected Outcome/Significance:"
   ]
  },
  {
   "cell_type": "code",
   "execution_count": null,
   "id": "3721c6a5-683b-4c32-ae40-dbc4b0d76b52",
   "metadata": {},
   "outputs": [],
   "source": []
  }
 ],
 "metadata": {
  "kernelspec": {
   "display_name": "R",
   "language": "R",
   "name": "ir"
  },
  "language_info": {
   "codemirror_mode": "r",
   "file_extension": ".r",
   "mimetype": "text/x-r-source",
   "name": "R",
   "pygments_lexer": "r",
   "version": "4.1.3"
  }
 },
 "nbformat": 4,
 "nbformat_minor": 5
}
