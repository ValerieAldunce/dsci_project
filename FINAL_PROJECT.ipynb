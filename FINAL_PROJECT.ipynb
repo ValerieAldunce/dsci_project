{
 "cells": [
  {
   "cell_type": "markdown",
   "id": "4410190a-5afb-48c5-bed8-b5f0650205e4",
   "metadata": {},
   "source": [
    "# Analysis of Heart Disease Data to Predict Likelihood of Disease in an Individual.\n",
    "\n",
    "\n",
    "# Introduction\n",
    "Heart disease is the second most common cause of death in Canada and research shows that lifestyle modifications and medication, can significantly lower your chance of developing the disease. In this analysis, we will aim to answer the question: what factors can help us predict whether an individual will have heart disease? To answer this question, we will be using a heart disease dataset that has information on 303 patients with 14 columns containing data about different medical information. The class we want to predict is whether heart disease is present in an individual based on evaluating three predictors: cholesterol levels, blood pressure levels, and age, which are all known to affect the probability of a patient being diagnosed with heart disease."
   ]
  },
  {
   "cell_type": "markdown",
   "id": "13649e44-2323-4fe8-bacf-3b43f4d82112",
   "metadata": {},
   "source": [
    "# Exploratory Data Analysis"
   ]
  },
  {
   "cell_type": "code",
   "execution_count": 3,
   "id": "53ab5df5-e84a-4984-8932-a28806692a73",
   "metadata": {},
   "outputs": [],
   "source": [
    "#Demonstrate that the dataset can be read from the web into R\n",
    " #read data \n",
    "library(tidyverse)\n",
    "library(tidymodels)\n",
    "heart_disease <- read.csv(\"https://archive.ics.uci.edu/ml/machine-learning-databases/heart-disease/processed.cleveland.data\")\n",
    "    #rename columns\n",
    "    names(heart_disease) <- c(\"age\", \"sex\", \"chest_pain\", \"blood_pressure\", \"cholesterol\", \"blood_sugar\", \"EKG\", \"heart_rate\", \"angina\", \"ST_depression\", \"ST_slope\", \"fluro\", \"thallium\", \"presence_of_disease\")\n"
   ]
  },
  {
   "cell_type": "code",
   "execution_count": 4,
   "id": "75d20ea4-aa72-4597-ba09-dc128ba4d1d6",
   "metadata": {},
   "outputs": [
    {
     "data": {
      "text/html": [
       "<table class=\"dataframe\">\n",
       "<caption>A data.frame: 9 × 4</caption>\n",
       "<thead>\n",
       "\t<tr><th></th><th scope=col>age</th><th scope=col>blood_pressure</th><th scope=col>cholesterol</th><th scope=col>disease_presence</th></tr>\n",
       "\t<tr><th></th><th scope=col>&lt;dbl&gt;</th><th scope=col>&lt;dbl&gt;</th><th scope=col>&lt;dbl&gt;</th><th scope=col>&lt;fct&gt;</th></tr>\n",
       "</thead>\n",
       "<tbody>\n",
       "\t<tr><th scope=row>1</th><td>67</td><td>160</td><td>286</td><td>2</td></tr>\n",
       "\t<tr><th scope=row>2</th><td>67</td><td>120</td><td>229</td><td>1</td></tr>\n",
       "\t<tr><th scope=row>3</th><td>37</td><td>130</td><td>250</td><td>0</td></tr>\n",
       "\t<tr><th scope=row>4</th><td>41</td><td>130</td><td>204</td><td>0</td></tr>\n",
       "\t<tr><th scope=row>5</th><td>56</td><td>120</td><td>236</td><td>0</td></tr>\n",
       "\t<tr><th scope=row>6</th><td>62</td><td>140</td><td>268</td><td>3</td></tr>\n",
       "\t<tr><th scope=row>7</th><td>57</td><td>120</td><td>354</td><td>0</td></tr>\n",
       "\t<tr><th scope=row>8</th><td>63</td><td>130</td><td>254</td><td>2</td></tr>\n",
       "\t<tr><th scope=row>9</th><td>53</td><td>140</td><td>203</td><td>1</td></tr>\n",
       "</tbody>\n",
       "</table>\n"
      ],
      "text/latex": [
       "A data.frame: 9 × 4\n",
       "\\begin{tabular}{r|llll}\n",
       "  & age & blood\\_pressure & cholesterol & disease\\_presence\\\\\n",
       "  & <dbl> & <dbl> & <dbl> & <fct>\\\\\n",
       "\\hline\n",
       "\t1 & 67 & 160 & 286 & 2\\\\\n",
       "\t2 & 67 & 120 & 229 & 1\\\\\n",
       "\t3 & 37 & 130 & 250 & 0\\\\\n",
       "\t4 & 41 & 130 & 204 & 0\\\\\n",
       "\t5 & 56 & 120 & 236 & 0\\\\\n",
       "\t6 & 62 & 140 & 268 & 3\\\\\n",
       "\t7 & 57 & 120 & 354 & 0\\\\\n",
       "\t8 & 63 & 130 & 254 & 2\\\\\n",
       "\t9 & 53 & 140 & 203 & 1\\\\\n",
       "\\end{tabular}\n"
      ],
      "text/markdown": [
       "\n",
       "A data.frame: 9 × 4\n",
       "\n",
       "| <!--/--> | age &lt;dbl&gt; | blood_pressure &lt;dbl&gt; | cholesterol &lt;dbl&gt; | disease_presence &lt;fct&gt; |\n",
       "|---|---|---|---|---|\n",
       "| 1 | 67 | 160 | 286 | 2 |\n",
       "| 2 | 67 | 120 | 229 | 1 |\n",
       "| 3 | 37 | 130 | 250 | 0 |\n",
       "| 4 | 41 | 130 | 204 | 0 |\n",
       "| 5 | 56 | 120 | 236 | 0 |\n",
       "| 6 | 62 | 140 | 268 | 3 |\n",
       "| 7 | 57 | 120 | 354 | 0 |\n",
       "| 8 | 63 | 130 | 254 | 2 |\n",
       "| 9 | 53 | 140 | 203 | 1 |\n",
       "\n"
      ],
      "text/plain": [
       "  age blood_pressure cholesterol disease_presence\n",
       "1 67  160            286         2               \n",
       "2 67  120            229         1               \n",
       "3 37  130            250         0               \n",
       "4 41  130            204         0               \n",
       "5 56  120            236         0               \n",
       "6 62  140            268         3               \n",
       "7 57  120            354         0               \n",
       "8 63  130            254         2               \n",
       "9 53  140            203         1               "
      ]
     },
     "metadata": {},
     "output_type": "display_data"
    }
   ],
   "source": [
    "disease_data <- heart_disease |>\n",
    "    #make whether or not a patient has the disease a fct\n",
    "    mutate (disease_presence = as_factor(presence_of_disease))|>\n",
    "    #select the three predictors that we want to examine\n",
    "    select (age, blood_pressure, cholesterol, disease_presence)\n",
    " #display the first 9 rows of the data\n",
    "head(disease_data, n = 9)"
   ]
  },
  {
   "cell_type": "markdown",
   "id": "a0b1024e-ed8c-4b3c-b5da-5c4ab1a4f5e9",
   "metadata": {},
   "source": [
    "We renamed the columns with names that we can understand, then selected the four columns that we are interested in examining, cholesterol levels, blood pressure levels, age and presence of heart disease."
   ]
  },
  {
   "cell_type": "code",
   "execution_count": 5,
   "id": "4a283b00-4041-4128-9f19-6775f03627e2",
   "metadata": {},
   "outputs": [
    {
     "data": {
      "text/html": [
       "<table class=\"dataframe\">\n",
       "<caption>A data.frame: 9 × 4</caption>\n",
       "<thead>\n",
       "\t<tr><th></th><th scope=col>age</th><th scope=col>blood_pressure</th><th scope=col>cholesterol</th><th scope=col>disease_presence</th></tr>\n",
       "\t<tr><th></th><th scope=col>&lt;dbl&gt;</th><th scope=col>&lt;dbl&gt;</th><th scope=col>&lt;dbl&gt;</th><th scope=col>&lt;fct&gt;</th></tr>\n",
       "</thead>\n",
       "<tbody>\n",
       "\t<tr><th scope=row>1</th><td>67</td><td>160</td><td>286</td><td>1</td></tr>\n",
       "\t<tr><th scope=row>2</th><td>67</td><td>120</td><td>229</td><td>1</td></tr>\n",
       "\t<tr><th scope=row>3</th><td>37</td><td>130</td><td>250</td><td>0</td></tr>\n",
       "\t<tr><th scope=row>4</th><td>41</td><td>130</td><td>204</td><td>0</td></tr>\n",
       "\t<tr><th scope=row>5</th><td>56</td><td>120</td><td>236</td><td>0</td></tr>\n",
       "\t<tr><th scope=row>6</th><td>62</td><td>140</td><td>268</td><td>1</td></tr>\n",
       "\t<tr><th scope=row>7</th><td>57</td><td>120</td><td>354</td><td>0</td></tr>\n",
       "\t<tr><th scope=row>8</th><td>63</td><td>130</td><td>254</td><td>1</td></tr>\n",
       "\t<tr><th scope=row>9</th><td>53</td><td>140</td><td>203</td><td>1</td></tr>\n",
       "</tbody>\n",
       "</table>\n"
      ],
      "text/latex": [
       "A data.frame: 9 × 4\n",
       "\\begin{tabular}{r|llll}\n",
       "  & age & blood\\_pressure & cholesterol & disease\\_presence\\\\\n",
       "  & <dbl> & <dbl> & <dbl> & <fct>\\\\\n",
       "\\hline\n",
       "\t1 & 67 & 160 & 286 & 1\\\\\n",
       "\t2 & 67 & 120 & 229 & 1\\\\\n",
       "\t3 & 37 & 130 & 250 & 0\\\\\n",
       "\t4 & 41 & 130 & 204 & 0\\\\\n",
       "\t5 & 56 & 120 & 236 & 0\\\\\n",
       "\t6 & 62 & 140 & 268 & 1\\\\\n",
       "\t7 & 57 & 120 & 354 & 0\\\\\n",
       "\t8 & 63 & 130 & 254 & 1\\\\\n",
       "\t9 & 53 & 140 & 203 & 1\\\\\n",
       "\\end{tabular}\n"
      ],
      "text/markdown": [
       "\n",
       "A data.frame: 9 × 4\n",
       "\n",
       "| <!--/--> | age &lt;dbl&gt; | blood_pressure &lt;dbl&gt; | cholesterol &lt;dbl&gt; | disease_presence &lt;fct&gt; |\n",
       "|---|---|---|---|---|\n",
       "| 1 | 67 | 160 | 286 | 1 |\n",
       "| 2 | 67 | 120 | 229 | 1 |\n",
       "| 3 | 37 | 130 | 250 | 0 |\n",
       "| 4 | 41 | 130 | 204 | 0 |\n",
       "| 5 | 56 | 120 | 236 | 0 |\n",
       "| 6 | 62 | 140 | 268 | 1 |\n",
       "| 7 | 57 | 120 | 354 | 0 |\n",
       "| 8 | 63 | 130 | 254 | 1 |\n",
       "| 9 | 53 | 140 | 203 | 1 |\n",
       "\n"
      ],
      "text/plain": [
       "  age blood_pressure cholesterol disease_presence\n",
       "1 67  160            286         1               \n",
       "2 67  120            229         1               \n",
       "3 37  130            250         0               \n",
       "4 41  130            204         0               \n",
       "5 56  120            236         0               \n",
       "6 62  140            268         1               \n",
       "7 57  120            354         0               \n",
       "8 63  130            254         1               \n",
       "9 53  140            203         1               "
      ]
     },
     "metadata": {},
     "output_type": "display_data"
    }
   ],
   "source": [
    "#Clean and wrangle your data into a tidy format\n",
    "    #make column of disease presence binary (by making all values bigger than 1 equal to 1) \n",
    "disease_data$disease_presence <-ifelse(disease_data$disease_presence==\"0\",0,1)\n",
    "disease_data <- disease_data |>\n",
    "    #make disease presence a factor again since it was transformed into a double case\n",
    "    mutate (disease_presence =as_factor(disease_presence))\n",
    "    head(disease_data, n = 9)   "
   ]
  },
  {
   "cell_type": "code",
   "execution_count": 6,
   "id": "f1924f30-567b-497b-a3b0-64630bd9ced5",
   "metadata": {},
   "outputs": [
    {
     "data": {
      "text/html": [
       "<table class=\"dataframe\">\n",
       "<caption>A data.frame: 3 × 4</caption>\n",
       "<thead>\n",
       "\t<tr><th></th><th scope=col>age</th><th scope=col>blood_pressure</th><th scope=col>cholesterol</th><th scope=col>disease_presence</th></tr>\n",
       "\t<tr><th></th><th scope=col>&lt;dbl&gt;</th><th scope=col>&lt;dbl&gt;</th><th scope=col>&lt;dbl&gt;</th><th scope=col>&lt;fct&gt;</th></tr>\n",
       "</thead>\n",
       "<tbody>\n",
       "\t<tr><th scope=row>3</th><td>37</td><td>130</td><td>250</td><td>0</td></tr>\n",
       "\t<tr><th scope=row>4</th><td>41</td><td>130</td><td>204</td><td>0</td></tr>\n",
       "\t<tr><th scope=row>7</th><td>57</td><td>120</td><td>354</td><td>0</td></tr>\n",
       "</tbody>\n",
       "</table>\n"
      ],
      "text/latex": [
       "A data.frame: 3 × 4\n",
       "\\begin{tabular}{r|llll}\n",
       "  & age & blood\\_pressure & cholesterol & disease\\_presence\\\\\n",
       "  & <dbl> & <dbl> & <dbl> & <fct>\\\\\n",
       "\\hline\n",
       "\t3 & 37 & 130 & 250 & 0\\\\\n",
       "\t4 & 41 & 130 & 204 & 0\\\\\n",
       "\t7 & 57 & 120 & 354 & 0\\\\\n",
       "\\end{tabular}\n"
      ],
      "text/markdown": [
       "\n",
       "A data.frame: 3 × 4\n",
       "\n",
       "| <!--/--> | age &lt;dbl&gt; | blood_pressure &lt;dbl&gt; | cholesterol &lt;dbl&gt; | disease_presence &lt;fct&gt; |\n",
       "|---|---|---|---|---|\n",
       "| 3 | 37 | 130 | 250 | 0 |\n",
       "| 4 | 41 | 130 | 204 | 0 |\n",
       "| 7 | 57 | 120 | 354 | 0 |\n",
       "\n"
      ],
      "text/plain": [
       "  age blood_pressure cholesterol disease_presence\n",
       "3 37  130            250         0               \n",
       "4 41  130            204         0               \n",
       "7 57  120            354         0               "
      ]
     },
     "metadata": {},
     "output_type": "display_data"
    },
    {
     "data": {
      "text/html": [
       "<table class=\"dataframe\">\n",
       "<caption>A data.frame: 3 × 4</caption>\n",
       "<thead>\n",
       "\t<tr><th></th><th scope=col>age</th><th scope=col>blood_pressure</th><th scope=col>cholesterol</th><th scope=col>disease_presence</th></tr>\n",
       "\t<tr><th></th><th scope=col>&lt;dbl&gt;</th><th scope=col>&lt;dbl&gt;</th><th scope=col>&lt;dbl&gt;</th><th scope=col>&lt;fct&gt;</th></tr>\n",
       "</thead>\n",
       "<tbody>\n",
       "\t<tr><th scope=row>5</th><td>56</td><td>120</td><td>236</td><td>0</td></tr>\n",
       "\t<tr><th scope=row>8</th><td>63</td><td>130</td><td>254</td><td>1</td></tr>\n",
       "\t<tr><th scope=row>12</th><td>56</td><td>130</td><td>256</td><td>1</td></tr>\n",
       "</tbody>\n",
       "</table>\n"
      ],
      "text/latex": [
       "A data.frame: 3 × 4\n",
       "\\begin{tabular}{r|llll}\n",
       "  & age & blood\\_pressure & cholesterol & disease\\_presence\\\\\n",
       "  & <dbl> & <dbl> & <dbl> & <fct>\\\\\n",
       "\\hline\n",
       "\t5 & 56 & 120 & 236 & 0\\\\\n",
       "\t8 & 63 & 130 & 254 & 1\\\\\n",
       "\t12 & 56 & 130 & 256 & 1\\\\\n",
       "\\end{tabular}\n"
      ],
      "text/markdown": [
       "\n",
       "A data.frame: 3 × 4\n",
       "\n",
       "| <!--/--> | age &lt;dbl&gt; | blood_pressure &lt;dbl&gt; | cholesterol &lt;dbl&gt; | disease_presence &lt;fct&gt; |\n",
       "|---|---|---|---|---|\n",
       "| 5 | 56 | 120 | 236 | 0 |\n",
       "| 8 | 63 | 130 | 254 | 1 |\n",
       "| 12 | 56 | 130 | 256 | 1 |\n",
       "\n"
      ],
      "text/plain": [
       "   age blood_pressure cholesterol disease_presence\n",
       "5  56  120            236         0               \n",
       "8  63  130            254         1               \n",
       "12 56  130            256         1               "
      ]
     },
     "metadata": {},
     "output_type": "display_data"
    }
   ],
   "source": [
    "    #split data into training and testing so we can use training data seperatly\n",
    "disease_split <- initial_split(disease_data, prop = 0.75, strata = disease_presence)  \n",
    "disease_training <- training(disease_split)   \n",
    "disease_testing <- testing(disease_split)\n",
    "  head(disease_training, n = 3)\n",
    "  head(disease_testing, n = 3)"
   ]
  },
  {
   "cell_type": "markdown",
   "id": "15bd55a0-3782-483b-9ff7-2900022cf38e",
   "metadata": {},
   "source": [
    "Having the presence of heart disease be a binary factor will allow us to better visualize the data later. \n",
    "Splitting the data is necessary because the training data is what is used to build the classifier, and the testing data is what we are trying to predict."
   ]
  },
  {
   "cell_type": "code",
   "execution_count": 7,
   "id": "0bdcb317-fb2e-4b87-a761-8e61dd15cb0d",
   "metadata": {},
   "outputs": [
    {
     "data": {
      "text/html": [
       "<table class=\"dataframe\">\n",
       "<caption>A tibble: 2 × 4</caption>\n",
       "<thead>\n",
       "\t<tr><th scope=col>disease_presence</th><th scope=col>avg_age</th><th scope=col>avg_blood_pressure</th><th scope=col>avg_cholesterol</th></tr>\n",
       "\t<tr><th scope=col>&lt;fct&gt;</th><th scope=col>&lt;dbl&gt;</th><th scope=col>&lt;dbl&gt;</th><th scope=col>&lt;dbl&gt;</th></tr>\n",
       "</thead>\n",
       "<tbody>\n",
       "\t<tr><td>0</td><td>52.72951</td><td>129.6475</td><td>239.8361</td></tr>\n",
       "\t<tr><td>1</td><td>56.61538</td><td>134.3942</td><td>256.5962</td></tr>\n",
       "</tbody>\n",
       "</table>\n"
      ],
      "text/latex": [
       "A tibble: 2 × 4\n",
       "\\begin{tabular}{llll}\n",
       " disease\\_presence & avg\\_age & avg\\_blood\\_pressure & avg\\_cholesterol\\\\\n",
       " <fct> & <dbl> & <dbl> & <dbl>\\\\\n",
       "\\hline\n",
       "\t 0 & 52.72951 & 129.6475 & 239.8361\\\\\n",
       "\t 1 & 56.61538 & 134.3942 & 256.5962\\\\\n",
       "\\end{tabular}\n"
      ],
      "text/markdown": [
       "\n",
       "A tibble: 2 × 4\n",
       "\n",
       "| disease_presence &lt;fct&gt; | avg_age &lt;dbl&gt; | avg_blood_pressure &lt;dbl&gt; | avg_cholesterol &lt;dbl&gt; |\n",
       "|---|---|---|---|\n",
       "| 0 | 52.72951 | 129.6475 | 239.8361 |\n",
       "| 1 | 56.61538 | 134.3942 | 256.5962 |\n",
       "\n"
      ],
      "text/plain": [
       "  disease_presence avg_age  avg_blood_pressure avg_cholesterol\n",
       "1 0                52.72951 129.6475           239.8361       \n",
       "2 1                56.61538 134.3942           256.5962       "
      ]
     },
     "metadata": {},
     "output_type": "display_data"
    }
   ],
   "source": [
    "#We created a table that groups the data into individuals who present heart disease and those who don't, and allows us to see the difference between the means of the three data columns that we are intereted in. \n",
    "disease_summary <- disease_training |> \n",
    "    group_by(disease_presence)|>\n",
    "    summarize(avg_age=mean(age), avg_blood_pressure=mean(blood_pressure), avg_cholesterol=mean(cholesterol))\n",
    "disease_summary"
   ]
  },
  {
   "cell_type": "markdown",
   "id": "febc5e07-5c94-4581-aa7b-ad1bcab77d3a",
   "metadata": {},
   "source": [
    "This summary of the data shows the mean value of our predictors of individuals with heart disease (1) and without (0), allowing us to compare the values. \n"
   ]
  },
  {
   "cell_type": "code",
   "execution_count": 8,
   "id": "ac0e9acd-fd11-4471-ba6b-42ac69b03ea8",
   "metadata": {},
   "outputs": [
    {
     "data": {
      "image/png": "[encoded data removed]",
      "text/plain": [
       "plot without title"
      ]
     },
     "metadata": {
      "image/png": {
       "height": 420,
       "width": 420
      }
     },
     "output_type": "display_data"
    }
   ],
   "source": [
    "#An example of a useful visualization could be one that compares the distributions of each of the predictor variables you plan to use in your analysis.\n",
    "disease.age_plot <- ggplot(disease_training, aes(x=age, fill=disease_presence, color=disease_presence)) +\n",
    "          geom_histogram(bins=15)+\n",
    "          xlab(\"age\") +\n",
    "          ylab(\"number of individuals\") + \n",
    "          theme(text = element_text(size = 12)) \n",
    "disease.age_plot"
   ]
  },
  {
   "cell_type": "code",
   "execution_count": 9,
   "id": "36cec445-dc68-48c9-b499-88aa7b74b03e",
   "metadata": {},
   "outputs": [
    {
     "data": {
      "image/png": "[encoded data removed]",
      "text/plain": [
       "plot without title"
      ]
     },
     "metadata": {
      "image/png": {
       "height": 420,
       "width": 420
      }
     },
     "output_type": "display_data"
    }
   ],
   "source": [
    "disease.bloodpressure_plot <- ggplot(disease_training, aes(x=blood_pressure, fill=disease_presence, color=disease_presence)) +\n",
    "          geom_histogram(bins=15)+\n",
    "          xlab(\"blood pressure level\") +\n",
    "          ylab(\"number of individuals\") + \n",
    "          theme(text = element_text(size = 12)) \n",
    "disease.bloodpressure_plot"
   ]
  },
  {
   "cell_type": "code",
   "execution_count": 10,
   "id": "e2ad2327-9a4a-4488-964c-290ae41f2433",
   "metadata": {},
   "outputs": [
    {
     "data": {
      "image/png": "[encoded data removed]",
      "text/plain": [
       "plot without title"
      ]
     },
     "metadata": {
      "image/png": {
       "height": 420,
       "width": 420
      }
     },
     "output_type": "display_data"
    }
   ],
   "source": [
    "disease.cholesterol_plot <- ggplot(disease_training, aes(x=cholesterol, fill=disease_presence, color=disease_presence)) +\n",
    "          geom_histogram(bins=15)+\n",
    "          xlab(\"cholesterol level\") +\n",
    "          ylab(\"number of individuals\") + \n",
    "          theme(text = element_text(size = 12)) \n",
    "disease.cholesterol_plot"
   ]
  },
  {
   "cell_type": "markdown",
   "id": "59d641f1-5cf1-4837-a087-e648c6b3d5e6",
   "metadata": {},
   "source": [
    "These graphs visualize the distribution of patient data and compare the ages, cholesterol levels, and blood pressure levels of individuals with and without heart disease."
   ]
  },
  {
   "cell_type": "markdown",
   "id": "efb25aab-b547-43de-95cb-daef00bbd269",
   "metadata": {},
   "source": [
    "# Method\n",
    "Age, cholesterol level, and blood pressure level will be our predictors because they are known factors in the development of heart disease. The older a patient is the higher the risk of heart disease becomes. The higher a patient's cholesterol or blood pressure levels, the more likely it is that their arteries or blood vessels can get damaged and clogged, which increases the risk of heart disease. "
   ]
  },
  {
   "cell_type": "markdown",
   "id": "666bb06d-7001-444a-99f4-32bbe33d3fb5",
   "metadata": {},
   "source": [
    "To analyze this data we will perform classification, following these steps:\n",
    "- Create a K-nearest neighbor classifier with our three predictors and check the accuracy of the K-nearest neighbor found using vfold_cv.\n",
    "- Create a model using the K-nearest neighbor to predict the presence or absence of heart disease in the patient and check for accuracy again, this time using the predict function and the testing data. \n",
    "- Create a visualization of our model, using scatterplots to visualize the relationship between two predictors at a time to visualize trends in predictors and their effect on the final diagnosis for a given patient."
   ]
  },
  {
   "cell_type": "markdown",
   "id": "9ecc8741-b31b-403c-a49e-725f47c4e159",
   "metadata": {},
   "source": [
    "# Classification of Data"
   ]
  },
  {
   "cell_type": "markdown",
   "id": "83259b9e-24bb-4a11-b160-ef0162a3184d",
   "metadata": {},
   "source": [
    "# Creation of Model and K-Nearest Neighbor Accurace Check\n",
    "To begin the classification we will need to create a KNN model to classify the data with our three predictors. The first step in doing this is to determine the k value that will give us the most accurate predictions. Using our training data we will start by creating a tuning model and a recipe."
   ]
  },
  {
   "cell_type": "code",
   "execution_count": null,
   "id": "561d3604-1f6f-4434-a245-3fb45cc695e8",
   "metadata": {},
   "outputs": [],
   "source": [
    "set.seed(2000)\n",
    "knn_spec_tune <- nearest_neighbor(weight_func = \"rectangular\", neighbors = tune()) |>\n",
    "    set_engine(\"kknn\") |>\n",
    "    set_mode(\"classification\")\n",
    "knn_recipe <- recipe(disease_presence~age+blood_pressure+cholesterol, data = disease_training) |>\n",
    "    step_scale(all_predictors())|>\n",
    "    step_center(all_predictors())"
   ]
  },
  {
   "cell_type": "code",
   "execution_count": null,
   "id": "f49cdb41-e2f0-468a-81ef-2cc72fe3adac",
   "metadata": {},
   "outputs": [],
   "source": []
  },
  {
   "cell_type": "code",
   "execution_count": null,
   "id": "63182529-17f5-4444-9d2e-9020a7005dad",
   "metadata": {},
   "outputs": [],
   "source": []
  },
  {
   "cell_type": "code",
   "execution_count": null,
   "id": "d2cb7a4f-093a-497b-b167-2c79668d6ad8",
   "metadata": {},
   "outputs": [],
   "source": []
  },
  {
   "cell_type": "markdown",
   "id": "c220477e-e322-4a07-95c7-0e2b61478841",
   "metadata": {},
   "source": [
    "# Discusion of Results"
   ]
  },
  {
   "cell_type": "markdown",
   "id": "b69b679a-110f-42a7-9284-629ca089914b",
   "metadata": {},
   "source": [
    "# Conclusion: Final Outcome and Significance of Results"
   ]
  },
  {
   "cell_type": "code",
   "execution_count": null,
   "id": "85989044-7597-4545-bf10-ec47f0a5b27d",
   "metadata": {},
   "outputs": [],
   "source": []
  },
  {
   "cell_type": "markdown",
   "id": "8b9e75fe-1130-4a00-a5cc-4aa29d55864e",
   "metadata": {},
   "source": [
    "Sources: https://memorialhermann.org/services/specialties/heart-and-vascular/healthy-living/education/heart-disease-and-age , https://familyheart.org/cholesterol-is-key , https://www.cdc.gov/diabetes/library/features/diabetes-and-heart.html"
   ]
  }
 ],
 "metadata": {
  "kernelspec": {
   "display_name": "R",
   "language": "R",
   "name": "ir"
  },
  "language_info": {
   "codemirror_mode": "r",
   "file_extension": ".r",
   "mimetype": "text/x-r-source",
   "name": "R",
   "pygments_lexer": "r",
   "version": "4.1.3"
  }
 },
 "nbformat": 4,
 "nbformat_minor": 5
}
