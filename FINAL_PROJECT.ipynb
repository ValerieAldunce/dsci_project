{
 "cells": [
  {
   "cell_type": "markdown",
   "id": "4410190a-5afb-48c5-bed8-b5f0650205e4",
   "metadata": {},
   "source": [
    "# Analysis of Heart Disease Data to Predict Likelihood of Disease in an Individual.\n",
    "\n",
    "\n",
    "# Introduction\n",
    "Heart disease is the second most common cause of death in Canada and research shows that lifestyle modifications and medication, can significantly lower your chance of developing the disease. In this analysis, we will aim to answer the question: what factors can help us predict whether an individual will have heart disease? To answer this question, we will be using a heart disease dataset that has information on 303 patients with 14 columns containing data about different medical information. The class we want to predict is whether heart disease is present in an individual based on evaluating three predictors: cholesterol levels, blood pressure levels, and age, which are all known to affect the probability of a patient being diagnosed with heart disease."
   ]
  },
  {
   "cell_type": "markdown",
   "id": "13649e44-2323-4fe8-bacf-3b43f4d82112",
   "metadata": {},
   "source": [
    "# Exploratory Data Analysis"
   ]
  },
  {
   "cell_type": "code",
   "execution_count": 2,
   "id": "53ab5df5-e84a-4984-8932-a28806692a73",
   "metadata": {},
   "outputs": [
    {
     "name": "stderr",
     "output_type": "stream",
     "text": [
      "── \u001b[1mAttaching packages\u001b[22m ─────────────────────────────────────── tidyverse 1.3.1 ──\n",
      "\n",
      "\u001b[32m✔\u001b[39m \u001b[34mggplot2\u001b[39m 3.3.6     \u001b[32m✔\u001b[39m \u001b[34mpurrr  \u001b[39m 0.3.4\n",
      "\u001b[32m✔\u001b[39m \u001b[34mtibble \u001b[39m 3.1.7     \u001b[32m✔\u001b[39m \u001b[34mdplyr  \u001b[39m 1.0.9\n",
      "\u001b[32m✔\u001b[39m \u001b[34mtidyr  \u001b[39m 1.2.0     \u001b[32m✔\u001b[39m \u001b[34mstringr\u001b[39m 1.4.0\n",
      "\u001b[32m✔\u001b[39m \u001b[34mreadr  \u001b[39m 2.1.2     \u001b[32m✔\u001b[39m \u001b[34mforcats\u001b[39m 0.5.1\n",
      "\n",
      "── \u001b[1mConflicts\u001b[22m ────────────────────────────────────────── tidyverse_conflicts() ──\n",
      "\u001b[31m✖\u001b[39m \u001b[34mdplyr\u001b[39m::\u001b[32mfilter()\u001b[39m masks \u001b[34mstats\u001b[39m::filter()\n",
      "\u001b[31m✖\u001b[39m \u001b[34mdplyr\u001b[39m::\u001b[32mlag()\u001b[39m    masks \u001b[34mstats\u001b[39m::lag()\n",
      "\n",
      "── \u001b[1mAttaching packages\u001b[22m ────────────────────────────────────── tidymodels 1.0.0 ──\n",
      "\n",
      "\u001b[32m✔\u001b[39m \u001b[34mbroom       \u001b[39m 1.0.0     \u001b[32m✔\u001b[39m \u001b[34mrsample     \u001b[39m 1.0.0\n",
      "\u001b[32m✔\u001b[39m \u001b[34mdials       \u001b[39m 1.0.0     \u001b[32m✔\u001b[39m \u001b[34mtune        \u001b[39m 1.0.0\n",
      "\u001b[32m✔\u001b[39m \u001b[34minfer       \u001b[39m 1.0.2     \u001b[32m✔\u001b[39m \u001b[34mworkflows   \u001b[39m 1.0.0\n",
      "\u001b[32m✔\u001b[39m \u001b[34mmodeldata   \u001b[39m 1.0.0     \u001b[32m✔\u001b[39m \u001b[34mworkflowsets\u001b[39m 1.0.0\n",
      "\u001b[32m✔\u001b[39m \u001b[34mparsnip     \u001b[39m 1.0.0     \u001b[32m✔\u001b[39m \u001b[34myardstick   \u001b[39m 1.0.0\n",
      "\u001b[32m✔\u001b[39m \u001b[34mrecipes     \u001b[39m 1.0.1     \n",
      "\n",
      "── \u001b[1mConflicts\u001b[22m ───────────────────────────────────────── tidymodels_conflicts() ──\n",
      "\u001b[31m✖\u001b[39m \u001b[34mscales\u001b[39m::\u001b[32mdiscard()\u001b[39m masks \u001b[34mpurrr\u001b[39m::discard()\n",
      "\u001b[31m✖\u001b[39m \u001b[34mdplyr\u001b[39m::\u001b[32mfilter()\u001b[39m   masks \u001b[34mstats\u001b[39m::filter()\n",
      "\u001b[31m✖\u001b[39m \u001b[34mrecipes\u001b[39m::\u001b[32mfixed()\u001b[39m  masks \u001b[34mstringr\u001b[39m::fixed()\n",
      "\u001b[31m✖\u001b[39m \u001b[34mdplyr\u001b[39m::\u001b[32mlag()\u001b[39m      masks \u001b[34mstats\u001b[39m::lag()\n",
      "\u001b[31m✖\u001b[39m \u001b[34myardstick\u001b[39m::\u001b[32mspec()\u001b[39m masks \u001b[34mreadr\u001b[39m::spec()\n",
      "\u001b[31m✖\u001b[39m \u001b[34mrecipes\u001b[39m::\u001b[32mstep()\u001b[39m   masks \u001b[34mstats\u001b[39m::step()\n",
      "\u001b[34m•\u001b[39m Search for functions across packages at \u001b[32mhttps://www.tidymodels.org/find/\u001b[39m\n",
      "\n"
     ]
    }
   ],
   "source": [
    "#Demonstrate that the dataset can be read from the web into R\n",
    " #read data \n",
    "library(tidyverse)\n",
    "library(tidymodels)\n",
    "heart_disease <- read.csv(\"https://archive.ics.uci.edu/ml/machine-learning-databases/heart-disease/processed.cleveland.data\")\n",
    "    #rename columns\n",
    "    names(heart_disease) <- c(\"age\", \"sex\", \"chest_pain\", \"blood_pressure\", \"cholesterol\", \"blood_sugar\", \"EKG\", \"heart_rate\", \"angina\", \"ST_depression\", \"ST_slope\", \"fluro\", \"thallium\", \"presence_of_disease\")\n"
   ]
  },
  {
   "cell_type": "code",
   "execution_count": 4,
   "id": "75d20ea4-aa72-4597-ba09-dc128ba4d1d6",
   "metadata": {},
   "outputs": [
    {
     "data": {
      "text/html": [
       "<table class=\"dataframe\">\n",
       "<caption>A data.frame: 9 × 4</caption>\n",
       "<thead>\n",
       "\t<tr><th></th><th scope=col>age</th><th scope=col>blood_pressure</th><th scope=col>cholesterol</th><th scope=col>disease_presence</th></tr>\n",
       "\t<tr><th></th><th scope=col>&lt;dbl&gt;</th><th scope=col>&lt;dbl&gt;</th><th scope=col>&lt;dbl&gt;</th><th scope=col>&lt;fct&gt;</th></tr>\n",
       "</thead>\n",
       "<tbody>\n",
       "\t<tr><th scope=row>1</th><td>67</td><td>160</td><td>286</td><td>2</td></tr>\n",
       "\t<tr><th scope=row>2</th><td>67</td><td>120</td><td>229</td><td>1</td></tr>\n",
       "\t<tr><th scope=row>3</th><td>37</td><td>130</td><td>250</td><td>0</td></tr>\n",
       "\t<tr><th scope=row>4</th><td>41</td><td>130</td><td>204</td><td>0</td></tr>\n",
       "\t<tr><th scope=row>5</th><td>56</td><td>120</td><td>236</td><td>0</td></tr>\n",
       "\t<tr><th scope=row>6</th><td>62</td><td>140</td><td>268</td><td>3</td></tr>\n",
       "\t<tr><th scope=row>7</th><td>57</td><td>120</td><td>354</td><td>0</td></tr>\n",
       "\t<tr><th scope=row>8</th><td>63</td><td>130</td><td>254</td><td>2</td></tr>\n",
       "\t<tr><th scope=row>9</th><td>53</td><td>140</td><td>203</td><td>1</td></tr>\n",
       "</tbody>\n",
       "</table>\n"
      ],
      "text/latex": [
       "A data.frame: 9 × 4\n",
       "\\begin{tabular}{r|llll}\n",
       "  & age & blood\\_pressure & cholesterol & disease\\_presence\\\\\n",
       "  & <dbl> & <dbl> & <dbl> & <fct>\\\\\n",
       "\\hline\n",
       "\t1 & 67 & 160 & 286 & 2\\\\\n",
       "\t2 & 67 & 120 & 229 & 1\\\\\n",
       "\t3 & 37 & 130 & 250 & 0\\\\\n",
       "\t4 & 41 & 130 & 204 & 0\\\\\n",
       "\t5 & 56 & 120 & 236 & 0\\\\\n",
       "\t6 & 62 & 140 & 268 & 3\\\\\n",
       "\t7 & 57 & 120 & 354 & 0\\\\\n",
       "\t8 & 63 & 130 & 254 & 2\\\\\n",
       "\t9 & 53 & 140 & 203 & 1\\\\\n",
       "\\end{tabular}\n"
      ],
      "text/markdown": [
       "\n",
       "A data.frame: 9 × 4\n",
       "\n",
       "| <!--/--> | age &lt;dbl&gt; | blood_pressure &lt;dbl&gt; | cholesterol &lt;dbl&gt; | disease_presence &lt;fct&gt; |\n",
       "|---|---|---|---|---|\n",
       "| 1 | 67 | 160 | 286 | 2 |\n",
       "| 2 | 67 | 120 | 229 | 1 |\n",
       "| 3 | 37 | 130 | 250 | 0 |\n",
       "| 4 | 41 | 130 | 204 | 0 |\n",
       "| 5 | 56 | 120 | 236 | 0 |\n",
       "| 6 | 62 | 140 | 268 | 3 |\n",
       "| 7 | 57 | 120 | 354 | 0 |\n",
       "| 8 | 63 | 130 | 254 | 2 |\n",
       "| 9 | 53 | 140 | 203 | 1 |\n",
       "\n"
      ],
      "text/plain": [
       "  age blood_pressure cholesterol disease_presence\n",
       "1 67  160            286         2               \n",
       "2 67  120            229         1               \n",
       "3 37  130            250         0               \n",
       "4 41  130            204         0               \n",
       "5 56  120            236         0               \n",
       "6 62  140            268         3               \n",
       "7 57  120            354         0               \n",
       "8 63  130            254         2               \n",
       "9 53  140            203         1               "
      ]
     },
     "metadata": {},
     "output_type": "display_data"
    }
   ],
   "source": [
    "disease_data <- heart_disease |>\n",
    "    #make whether or not a patient has the disease a fct\n",
    "    mutate (disease_presence = as_factor(presence_of_disease))|>\n",
    "    #select the three predictors that we want to examine\n",
    "    select (age, blood_pressure, cholesterol, disease_presence)\n",
    " #display the first 9 rows of the data\n",
    "head(disease_data, n = 9)"
   ]
  },
  {
   "cell_type": "markdown",
   "id": "a0b1024e-ed8c-4b3c-b5da-5c4ab1a4f5e9",
   "metadata": {},
   "source": [
    "We renamed the columns with names that we can understand, then selected the four columns that we are interested in examining: cholesterol levels, blood pressure levels, age and presence of heart disease."
   ]
  },
  {
   "cell_type": "code",
   "execution_count": 5,
   "id": "4a283b00-4041-4128-9f19-6775f03627e2",
   "metadata": {},
   "outputs": [
    {
     "data": {
      "text/html": [
       "<table class=\"dataframe\">\n",
       "<caption>A data.frame: 9 × 4</caption>\n",
       "<thead>\n",
       "\t<tr><th></th><th scope=col>age</th><th scope=col>blood_pressure</th><th scope=col>cholesterol</th><th scope=col>disease_presence</th></tr>\n",
       "\t<tr><th></th><th scope=col>&lt;dbl&gt;</th><th scope=col>&lt;dbl&gt;</th><th scope=col>&lt;dbl&gt;</th><th scope=col>&lt;fct&gt;</th></tr>\n",
       "</thead>\n",
       "<tbody>\n",
       "\t<tr><th scope=row>1</th><td>67</td><td>160</td><td>286</td><td>1</td></tr>\n",
       "\t<tr><th scope=row>2</th><td>67</td><td>120</td><td>229</td><td>1</td></tr>\n",
       "\t<tr><th scope=row>3</th><td>37</td><td>130</td><td>250</td><td>0</td></tr>\n",
       "\t<tr><th scope=row>4</th><td>41</td><td>130</td><td>204</td><td>0</td></tr>\n",
       "\t<tr><th scope=row>5</th><td>56</td><td>120</td><td>236</td><td>0</td></tr>\n",
       "\t<tr><th scope=row>6</th><td>62</td><td>140</td><td>268</td><td>1</td></tr>\n",
       "\t<tr><th scope=row>7</th><td>57</td><td>120</td><td>354</td><td>0</td></tr>\n",
       "\t<tr><th scope=row>8</th><td>63</td><td>130</td><td>254</td><td>1</td></tr>\n",
       "\t<tr><th scope=row>9</th><td>53</td><td>140</td><td>203</td><td>1</td></tr>\n",
       "</tbody>\n",
       "</table>\n"
      ],
      "text/latex": [
       "A data.frame: 9 × 4\n",
       "\\begin{tabular}{r|llll}\n",
       "  & age & blood\\_pressure & cholesterol & disease\\_presence\\\\\n",
       "  & <dbl> & <dbl> & <dbl> & <fct>\\\\\n",
       "\\hline\n",
       "\t1 & 67 & 160 & 286 & 1\\\\\n",
       "\t2 & 67 & 120 & 229 & 1\\\\\n",
       "\t3 & 37 & 130 & 250 & 0\\\\\n",
       "\t4 & 41 & 130 & 204 & 0\\\\\n",
       "\t5 & 56 & 120 & 236 & 0\\\\\n",
       "\t6 & 62 & 140 & 268 & 1\\\\\n",
       "\t7 & 57 & 120 & 354 & 0\\\\\n",
       "\t8 & 63 & 130 & 254 & 1\\\\\n",
       "\t9 & 53 & 140 & 203 & 1\\\\\n",
       "\\end{tabular}\n"
      ],
      "text/markdown": [
       "\n",
       "A data.frame: 9 × 4\n",
       "\n",
       "| <!--/--> | age &lt;dbl&gt; | blood_pressure &lt;dbl&gt; | cholesterol &lt;dbl&gt; | disease_presence &lt;fct&gt; |\n",
       "|---|---|---|---|---|\n",
       "| 1 | 67 | 160 | 286 | 1 |\n",
       "| 2 | 67 | 120 | 229 | 1 |\n",
       "| 3 | 37 | 130 | 250 | 0 |\n",
       "| 4 | 41 | 130 | 204 | 0 |\n",
       "| 5 | 56 | 120 | 236 | 0 |\n",
       "| 6 | 62 | 140 | 268 | 1 |\n",
       "| 7 | 57 | 120 | 354 | 0 |\n",
       "| 8 | 63 | 130 | 254 | 1 |\n",
       "| 9 | 53 | 140 | 203 | 1 |\n",
       "\n"
      ],
      "text/plain": [
       "  age blood_pressure cholesterol disease_presence\n",
       "1 67  160            286         1               \n",
       "2 67  120            229         1               \n",
       "3 37  130            250         0               \n",
       "4 41  130            204         0               \n",
       "5 56  120            236         0               \n",
       "6 62  140            268         1               \n",
       "7 57  120            354         0               \n",
       "8 63  130            254         1               \n",
       "9 53  140            203         1               "
      ]
     },
     "metadata": {},
     "output_type": "display_data"
    }
   ],
   "source": [
    "#Clean and wrangle your data into a tidy format\n",
    "    #make column of disease presence binary (by making all values bigger than 1 equal to 1) \n",
    "disease_data$disease_presence <-ifelse(disease_data$disease_presence==\"0\",0,1)\n",
    "disease_data <- disease_data |>\n",
    "    #make disease presence a factor again since it was transformed into a double case\n",
    "    mutate (disease_presence =as_factor(disease_presence))\n",
    "    head(disease_data, n = 9)   "
   ]
  },
  {
   "cell_type": "code",
   "execution_count": 6,
   "id": "f1924f30-567b-497b-a3b0-64630bd9ced5",
   "metadata": {},
   "outputs": [
    {
     "data": {
      "text/html": [
       "<table class=\"dataframe\">\n",
       "<caption>A data.frame: 3 × 4</caption>\n",
       "<thead>\n",
       "\t<tr><th></th><th scope=col>age</th><th scope=col>blood_pressure</th><th scope=col>cholesterol</th><th scope=col>disease_presence</th></tr>\n",
       "\t<tr><th></th><th scope=col>&lt;dbl&gt;</th><th scope=col>&lt;dbl&gt;</th><th scope=col>&lt;dbl&gt;</th><th scope=col>&lt;fct&gt;</th></tr>\n",
       "</thead>\n",
       "<tbody>\n",
       "\t<tr><th scope=row>4</th><td>41</td><td>130</td><td>204</td><td>0</td></tr>\n",
       "\t<tr><th scope=row>5</th><td>56</td><td>120</td><td>236</td><td>0</td></tr>\n",
       "\t<tr><th scope=row>11</th><td>56</td><td>140</td><td>294</td><td>0</td></tr>\n",
       "</tbody>\n",
       "</table>\n"
      ],
      "text/latex": [
       "A data.frame: 3 × 4\n",
       "\\begin{tabular}{r|llll}\n",
       "  & age & blood\\_pressure & cholesterol & disease\\_presence\\\\\n",
       "  & <dbl> & <dbl> & <dbl> & <fct>\\\\\n",
       "\\hline\n",
       "\t4 & 41 & 130 & 204 & 0\\\\\n",
       "\t5 & 56 & 120 & 236 & 0\\\\\n",
       "\t11 & 56 & 140 & 294 & 0\\\\\n",
       "\\end{tabular}\n"
      ],
      "text/markdown": [
       "\n",
       "A data.frame: 3 × 4\n",
       "\n",
       "| <!--/--> | age &lt;dbl&gt; | blood_pressure &lt;dbl&gt; | cholesterol &lt;dbl&gt; | disease_presence &lt;fct&gt; |\n",
       "|---|---|---|---|---|\n",
       "| 4 | 41 | 130 | 204 | 0 |\n",
       "| 5 | 56 | 120 | 236 | 0 |\n",
       "| 11 | 56 | 140 | 294 | 0 |\n",
       "\n"
      ],
      "text/plain": [
       "   age blood_pressure cholesterol disease_presence\n",
       "4  41  130            204         0               \n",
       "5  56  120            236         0               \n",
       "11 56  140            294         0               "
      ]
     },
     "metadata": {},
     "output_type": "display_data"
    },
    {
     "data": {
      "text/html": [
       "<table class=\"dataframe\">\n",
       "<caption>A data.frame: 3 × 4</caption>\n",
       "<thead>\n",
       "\t<tr><th></th><th scope=col>age</th><th scope=col>blood_pressure</th><th scope=col>cholesterol</th><th scope=col>disease_presence</th></tr>\n",
       "\t<tr><th></th><th scope=col>&lt;dbl&gt;</th><th scope=col>&lt;dbl&gt;</th><th scope=col>&lt;dbl&gt;</th><th scope=col>&lt;fct&gt;</th></tr>\n",
       "</thead>\n",
       "<tbody>\n",
       "\t<tr><th scope=row>1</th><td>67</td><td>160</td><td>286</td><td>1</td></tr>\n",
       "\t<tr><th scope=row>3</th><td>37</td><td>130</td><td>250</td><td>0</td></tr>\n",
       "\t<tr><th scope=row>7</th><td>57</td><td>120</td><td>354</td><td>0</td></tr>\n",
       "</tbody>\n",
       "</table>\n"
      ],
      "text/latex": [
       "A data.frame: 3 × 4\n",
       "\\begin{tabular}{r|llll}\n",
       "  & age & blood\\_pressure & cholesterol & disease\\_presence\\\\\n",
       "  & <dbl> & <dbl> & <dbl> & <fct>\\\\\n",
       "\\hline\n",
       "\t1 & 67 & 160 & 286 & 1\\\\\n",
       "\t3 & 37 & 130 & 250 & 0\\\\\n",
       "\t7 & 57 & 120 & 354 & 0\\\\\n",
       "\\end{tabular}\n"
      ],
      "text/markdown": [
       "\n",
       "A data.frame: 3 × 4\n",
       "\n",
       "| <!--/--> | age &lt;dbl&gt; | blood_pressure &lt;dbl&gt; | cholesterol &lt;dbl&gt; | disease_presence &lt;fct&gt; |\n",
       "|---|---|---|---|---|\n",
       "| 1 | 67 | 160 | 286 | 1 |\n",
       "| 3 | 37 | 130 | 250 | 0 |\n",
       "| 7 | 57 | 120 | 354 | 0 |\n",
       "\n"
      ],
      "text/plain": [
       "  age blood_pressure cholesterol disease_presence\n",
       "1 67  160            286         1               \n",
       "3 37  130            250         0               \n",
       "7 57  120            354         0               "
      ]
     },
     "metadata": {},
     "output_type": "display_data"
    }
   ],
   "source": [
    "    #split data into training and testing so we can use training data seperatly\n",
    "disease_split <- initial_split(disease_data, prop = 0.75, strata = disease_presence)  \n",
    "disease_training <- training(disease_split)   \n",
    "disease_testing <- testing(disease_split)\n",
    "  head(disease_training, n = 3)\n",
    "  head(disease_testing, n = 3)"
   ]
  },
  {
   "cell_type": "markdown",
   "id": "15bd55a0-3782-483b-9ff7-2900022cf38e",
   "metadata": {},
   "source": [
    "Having the presence of heart disease be a binary factor will allow us to better visualize the data later. \n",
    "Splitting the data is necessary because the training data is what is used to build the classifier, and the testing data is what we are trying to predict."
   ]
  },
  {
   "cell_type": "code",
   "execution_count": 7,
   "id": "0bdcb317-fb2e-4b87-a761-8e61dd15cb0d",
   "metadata": {},
   "outputs": [
    {
     "data": {
      "text/html": [
       "<table class=\"dataframe\">\n",
       "<caption>A tibble: 2 × 4</caption>\n",
       "<thead>\n",
       "\t<tr><th scope=col>disease_presence</th><th scope=col>avg_age</th><th scope=col>avg_blood_pressure</th><th scope=col>avg_cholesterol</th></tr>\n",
       "\t<tr><th scope=col>&lt;fct&gt;</th><th scope=col>&lt;dbl&gt;</th><th scope=col>&lt;dbl&gt;</th><th scope=col>&lt;dbl&gt;</th></tr>\n",
       "</thead>\n",
       "<tbody>\n",
       "\t<tr><td>0</td><td>52.37705</td><td>129.7131</td><td>244.6066</td></tr>\n",
       "\t<tr><td>1</td><td>56.75962</td><td>133.3269</td><td>250.4808</td></tr>\n",
       "</tbody>\n",
       "</table>\n"
      ],
      "text/latex": [
       "A tibble: 2 × 4\n",
       "\\begin{tabular}{llll}\n",
       " disease\\_presence & avg\\_age & avg\\_blood\\_pressure & avg\\_cholesterol\\\\\n",
       " <fct> & <dbl> & <dbl> & <dbl>\\\\\n",
       "\\hline\n",
       "\t 0 & 52.37705 & 129.7131 & 244.6066\\\\\n",
       "\t 1 & 56.75962 & 133.3269 & 250.4808\\\\\n",
       "\\end{tabular}\n"
      ],
      "text/markdown": [
       "\n",
       "A tibble: 2 × 4\n",
       "\n",
       "| disease_presence &lt;fct&gt; | avg_age &lt;dbl&gt; | avg_blood_pressure &lt;dbl&gt; | avg_cholesterol &lt;dbl&gt; |\n",
       "|---|---|---|---|\n",
       "| 0 | 52.37705 | 129.7131 | 244.6066 |\n",
       "| 1 | 56.75962 | 133.3269 | 250.4808 |\n",
       "\n"
      ],
      "text/plain": [
       "  disease_presence avg_age  avg_blood_pressure avg_cholesterol\n",
       "1 0                52.37705 129.7131           244.6066       \n",
       "2 1                56.75962 133.3269           250.4808       "
      ]
     },
     "metadata": {},
     "output_type": "display_data"
    }
   ],
   "source": [
    "#We created a table that groups the data into individuals who present heart disease and those who don't, and allows us to see the difference between the means of the three data columns that we are intereted in. \n",
    "disease_summary <- disease_training |> \n",
    "    group_by(disease_presence)|>\n",
    "    summarize(avg_age=mean(age), avg_blood_pressure=mean(blood_pressure), avg_cholesterol=mean(cholesterol))\n",
    "disease_summary"
   ]
  },
  {
   "cell_type": "markdown",
   "id": "febc5e07-5c94-4581-aa7b-ad1bcab77d3a",
   "metadata": {},
   "source": [
    "This summary of the data shows the mean value of our predictors of individuals with heart disease (1) and without (0), allowing us to compare the values. \n"
   ]
  },
  {
   "cell_type": "code",
   "execution_count": 8,
   "id": "ac0e9acd-fd11-4471-ba6b-42ac69b03ea8",
   "metadata": {},
   "outputs": [
    {
     "data": {
      "image/png": "[encoded data removed]",
      "text/plain": [
       "plot without title"
      ]
     },
     "metadata": {
      "image/png": {
       "height": 420,
       "width": 420
      }
     },
     "output_type": "display_data"
    }
   ],
   "source": [
    "#An example of a useful visualization could be one that compares the distributions of each of the predictor variables you plan to use in your analysis.\n",
    "disease.age_plot <- ggplot(disease_training, aes(x=age, fill=disease_presence, color=disease_presence)) +\n",
    "          geom_histogram(bins=15)+\n",
    "          xlab(\"age\") +\n",
    "          ylab(\"number of individuals\") + \n",
    "          theme(text = element_text(size = 12)) \n",
    "disease.age_plot"
   ]
  },
  {
   "cell_type": "code",
   "execution_count": 9,
   "id": "36cec445-dc68-48c9-b499-88aa7b74b03e",
   "metadata": {},
   "outputs": [
    {
     "data": {
      "image/png": "[encoded data removed]",
      "text/plain": [
       "plot without title"
      ]
     },
     "metadata": {
      "image/png": {
       "height": 420,
       "width": 420
      }
     },
     "output_type": "display_data"
    }
   ],
   "source": [
    "disease.bloodpressure_plot <- ggplot(disease_training, aes(x=blood_pressure, fill=disease_presence, color=disease_presence)) +\n",
    "          geom_histogram(bins=15)+\n",
    "          xlab(\"blood pressure level\") +\n",
    "          ylab(\"number of individuals\") + \n",
    "          theme(text = element_text(size = 12)) \n",
    "disease.bloodpressure_plot"
   ]
  },
  {
   "cell_type": "code",
   "execution_count": 10,
   "id": "e2ad2327-9a4a-4488-964c-290ae41f2433",
   "metadata": {},
   "outputs": [
    {
     "data": {
      "image/png": "[encoded data removed]",
      "text/plain": [
       "plot without title"
      ]
     },
     "metadata": {
      "image/png": {
       "height": 420,
       "width": 420
      }
     },
     "output_type": "display_data"
    }
   ],
   "source": [
    "disease.cholesterol_plot <- ggplot(disease_training, aes(x=cholesterol, fill=disease_presence, color=disease_presence)) +\n",
    "          geom_histogram(bins=15)+\n",
    "          xlab(\"cholesterol level\") +\n",
    "          ylab(\"number of individuals\") + \n",
    "          theme(text = element_text(size = 12)) \n",
    "disease.cholesterol_plot"
   ]
  },
  {
   "cell_type": "markdown",
   "id": "59d641f1-5cf1-4837-a087-e648c6b3d5e6",
   "metadata": {},
   "source": [
    "These graphs visualize the distribution of patient data and compare the ages, cholesterol levels, and blood pressure levels of individuals with and without heart disease."
   ]
  },
  {
   "cell_type": "markdown",
   "id": "efb25aab-b547-43de-95cb-daef00bbd269",
   "metadata": {},
   "source": [
    "# Method\n",
    "Age, cholesterol level, and blood pressure level will be our predictors because they are known factors in the development of heart disease. The older a patient is the higher the risk of heart disease becomes. The higher a patient's cholesterol or blood pressure levels, the more likely it is that their arteries or blood vessels can get damaged and clogged, which increases the risk of heart disease. "
   ]
  },
  {
   "cell_type": "markdown",
   "id": "666bb06d-7001-444a-99f4-32bbe33d3fb5",
   "metadata": {},
   "source": [
    "To analyze this data we will perform classification, following these steps:\n",
    "- Create a $k$-nearest neighbor classifier with our three predictors and check the accuracy of the $k$-nearest neighbor found using vfold_cv.\n",
    "- Create a model using the $k$-nearest neighbor to predict the presence or absence of heart disease in the patient and check for accuracy again, this time using the predict function and the testing data. \n",
    "- Create a visualization of our model, using scatterplots to visualize the relationship between two predictors at a time to visualize trends in predictors and their effect on the final diagnosis for a given patient."
   ]
  },
  {
   "cell_type": "markdown",
   "id": "9ecc8741-b31b-403c-a49e-725f47c4e159",
   "metadata": {},
   "source": [
    "# Classification of Data"
   ]
  },
  {
   "cell_type": "markdown",
   "id": "83259b9e-24bb-4a11-b160-ef0162a3184d",
   "metadata": {},
   "source": [
    "# Creation of Model and K-Nearest Neighbor Accuracy Check\n",
    "To begin the classification we will need to create a KNN model to classify the data with our three predictors. The first step in doing this is to determine the $k$ value that will give us the most accurate predictions. Using our training data we will start by creating a tuning model and a recipe."
   ]
  },
  {
   "cell_type": "code",
   "execution_count": 11,
   "id": "561d3604-1f6f-4434-a245-3fb45cc695e8",
   "metadata": {},
   "outputs": [],
   "source": [
    "set.seed(2000)\n",
    "knn_spec_tune <- nearest_neighbor(weight_func = \"rectangular\", neighbors = tune()) |>\n",
    "    set_engine(\"kknn\") |>\n",
    "    set_mode(\"classification\")\n",
    "knn_recipe <- recipe(disease_presence~age+blood_pressure+cholesterol, data = disease_training) |>\n",
    "    step_scale(all_predictors())|>\n",
    "    step_center(all_predictors())"
   ]
  },
  {
   "cell_type": "markdown",
   "id": "eadca3b0-74d5-42c2-b9c4-90a0b360b92d",
   "metadata": {},
   "source": [
    "To find a $k$ value with high accuracy we can use cross-validation and then we can check the accuracy of the $k$-nearest neighbor found using `vfold_cv`. We will do this by testing 10 values of $k$ from 1 to 20, and then choose the one that gives the most accurate dataframe. "
   ]
  },
  {
   "cell_type": "code",
   "execution_count": 12,
   "id": "db6d8c04-29fe-4616-8c9a-40fc9040c31f",
   "metadata": {},
   "outputs": [],
   "source": [
    "fold <-vfold_cv (disease_training, v=10, strata = disease_presence)\n",
    "k_values<-tibble(neighbors=seq(from=1, to=20, by=2))\n",
    "best_k<-workflow()|>\n",
    "    add_model(knn_spec_tune)|>\n",
    "    add_recipe(knn_recipe)|>\n",
    "    tune_grid(fold, grid = k_values)|>\n",
    "    collect_metrics()"
   ]
  },
  {
   "cell_type": "markdown",
   "id": "e118581c-6671-4e5e-ae09-5c8dab258826",
   "metadata": {},
   "source": [
    "Now that we have our $k$ values. we will create a graph to visualize the $k$ value with the highest accuracy. "
   ]
  },
  {
   "cell_type": "code",
   "execution_count": 13,
   "id": "627bcb6b-5a05-44a2-b15c-ff5509bc71d9",
   "metadata": {},
   "outputs": [
    {
     "data": {
      "image/png": "[encoded data removed]",
      "text/plain": [
       "plot without title"
      ]
     },
     "metadata": {
      "image/png": {
       "height": 600,
       "width": 900
      }
     },
     "output_type": "display_data"
    }
   ],
   "source": [
    "options(repr.plot.width = 15, repr.plot.height = 10)\n",
    "accuracy_plot<-best_k|>\n",
    "    filter(.metric == \"accuracy\")|>\n",
    "    ggplot(aes(x = neighbors, y = mean))+\n",
    "    geom_point()+\n",
    "    geom_line()+\n",
    "    labs(title = \"Accuracy of k Values\", x= \"k Values\", y= \"Accuracy Estimate\")+\n",
    "    scale_x_continuous(breaks = seq(0,20,by=2))+\n",
    "    scale_y_continuous(limits = c(0,1.0))+\n",
    "theme(text=element_text(size =20))\n",
    "accuracy_plot"
   ]
  },
  {
   "cell_type": "markdown",
   "id": "bf1e235c-7acb-4051-a62e-34a02d5b4f68",
   "metadata": {},
   "source": [
    "From the graph that plots the accuracy of the $k$ values, we can see that $k=15$ has the highest accuracy. To make sure we are right we can create a model that finds the $k$ value with the highest accuracy."
   ]
  },
  {
   "cell_type": "code",
   "execution_count": 20,
   "id": "a5c0aeef-ab08-4d5d-9ab9-2332e85345be",
   "metadata": {},
   "outputs": [
    {
     "data": {
      "text/html": [
       "15"
      ],
      "text/latex": [
       "15"
      ],
      "text/markdown": [
       "15"
      ],
      "text/plain": [
       "[1] 15"
      ]
     },
     "metadata": {},
     "output_type": "display_data"
    }
   ],
   "source": [
    "best_k_model<-best_k|>\n",
    "    filter(.metric=='accuracy')|>\n",
    "    filter(mean==max(mean))|>\n",
    "    select(neighbors)|>\n",
    "    pull()\n",
    "best_k_model"
   ]
  },
  {
   "cell_type": "markdown",
   "id": "5dbbeddc-52c0-48ef-9bb8-9d5e64f07c81",
   "metadata": {},
   "source": [
    "Now that we have determined the best k value, k=15, we can create our final model using this k. "
   ]
  },
  {
   "cell_type": "code",
   "execution_count": 16,
   "id": "23a70033-4a14-415b-8d23-b681e9649200",
   "metadata": {},
   "outputs": [
    {
     "data": {
      "text/plain": [
       "══ Workflow [trained] ══════════════════════════════════════════════════════════\n",
       "\u001b[3mPreprocessor:\u001b[23m Recipe\n",
       "\u001b[3mModel:\u001b[23m nearest_neighbor()\n",
       "\n",
       "── Preprocessor ────────────────────────────────────────────────────────────────\n",
       "2 Recipe Steps\n",
       "\n",
       "• step_scale()\n",
       "• step_center()\n",
       "\n",
       "── Model ───────────────────────────────────────────────────────────────────────\n",
       "\n",
       "Call:\n",
       "kknn::train.kknn(formula = ..y ~ ., data = data, ks = min_rows(15,     data, 5), kernel = ~\"rectangular\")\n",
       "\n",
       "Type of response variable: nominal\n",
       "Minimal misclassification: 0.4292035\n",
       "Best kernel: rectangular\n",
       "Best k: 15"
      ]
     },
     "metadata": {},
     "output_type": "display_data"
    }
   ],
   "source": [
    "knn_spec<- nearest_neighbor(weight_func = \"rectangular\", neighbors = 15) |>\n",
    "        set_engine(\"kknn\") |>\n",
    "        set_mode(\"classification\")\n",
    "knn_fit<- workflow() |>\n",
    "         add_recipe(knn_recipe) |>\n",
    "         add_model(knn_spec) |>\n",
    "         fit(data = disease_training)\n",
    "knn_fit"
   ]
  },
  {
   "cell_type": "markdown",
   "id": "3eb0c172-7c26-4080-a61b-0b761b6b1745",
   "metadata": {},
   "source": [
    "# Testing the Accuracy of Our Models Predictions "
   ]
  },
  {
   "cell_type": "markdown",
   "id": "bba487b2-4d38-477e-a989-db2198d64573",
   "metadata": {},
   "source": [
    "Now that we have our final model, we can use it to predict whether or not heart disease is present in a patient."
   ]
  },
  {
   "cell_type": "code",
   "execution_count": 18,
   "id": "975cbb43-a0aa-426d-af1f-4e3f21f894ef",
   "metadata": {},
   "outputs": [
    {
     "data": {
      "text/html": [
       "<table class=\"dataframe\">\n",
       "<caption>A tibble: 76 × 5</caption>\n",
       "<thead>\n",
       "\t<tr><th scope=col>.pred_class</th><th scope=col>age</th><th scope=col>blood_pressure</th><th scope=col>cholesterol</th><th scope=col>disease_presence</th></tr>\n",
       "\t<tr><th scope=col>&lt;fct&gt;</th><th scope=col>&lt;dbl&gt;</th><th scope=col>&lt;dbl&gt;</th><th scope=col>&lt;dbl&gt;</th><th scope=col>&lt;fct&gt;</th></tr>\n",
       "</thead>\n",
       "<tbody>\n",
       "\t<tr><td>0</td><td>67</td><td>160</td><td>286</td><td>1</td></tr>\n",
       "\t<tr><td>0</td><td>37</td><td>130</td><td>250</td><td>0</td></tr>\n",
       "\t<tr><td>1</td><td>57</td><td>120</td><td>354</td><td>0</td></tr>\n",
       "\t<tr><td>1</td><td>63</td><td>130</td><td>254</td><td>1</td></tr>\n",
       "\t<tr><td>1</td><td>57</td><td>140</td><td>192</td><td>0</td></tr>\n",
       "\t<tr><td>1</td><td>56</td><td>130</td><td>256</td><td>1</td></tr>\n",
       "\t<tr><td>0</td><td>44</td><td>120</td><td>263</td><td>0</td></tr>\n",
       "\t<tr><td>1</td><td>58</td><td>132</td><td>224</td><td>1</td></tr>\n",
       "\t<tr><td>0</td><td>50</td><td>120</td><td>219</td><td>0</td></tr>\n",
       "\t<tr><td>0</td><td>40</td><td>110</td><td>167</td><td>1</td></tr>\n",
       "\t<tr><td>1</td><td>59</td><td>135</td><td>234</td><td>0</td></tr>\n",
       "\t<tr><td>1</td><td>57</td><td>150</td><td>276</td><td>1</td></tr>\n",
       "\t<tr><td>1</td><td>55</td><td>132</td><td>353</td><td>1</td></tr>\n",
       "\t<tr><td>1</td><td>61</td><td>130</td><td>330</td><td>1</td></tr>\n",
       "\t<tr><td>0</td><td>58</td><td>112</td><td>230</td><td>1</td></tr>\n",
       "\t<tr><td>1</td><td>53</td><td>130</td><td>197</td><td>0</td></tr>\n",
       "\t<tr><td>0</td><td>51</td><td>125</td><td>213</td><td>0</td></tr>\n",
       "\t<tr><td>0</td><td>54</td><td>135</td><td>304</td><td>0</td></tr>\n",
       "\t<tr><td>1</td><td>67</td><td>125</td><td>254</td><td>1</td></tr>\n",
       "\t<tr><td>0</td><td>51</td><td>140</td><td>308</td><td>0</td></tr>\n",
       "\t<tr><td>1</td><td>58</td><td>150</td><td>270</td><td>1</td></tr>\n",
       "\t<tr><td>0</td><td>53</td><td>130</td><td>264</td><td>0</td></tr>\n",
       "\t<tr><td>0</td><td>51</td><td>130</td><td>256</td><td>0</td></tr>\n",
       "\t<tr><td>0</td><td>52</td><td>134</td><td>201</td><td>0</td></tr>\n",
       "\t<tr><td>0</td><td>48</td><td>122</td><td>222</td><td>0</td></tr>\n",
       "\t<tr><td>0</td><td>45</td><td>115</td><td>260</td><td>0</td></tr>\n",
       "\t<tr><td>1</td><td>71</td><td>110</td><td>265</td><td>0</td></tr>\n",
       "\t<tr><td>1</td><td>59</td><td>140</td><td>177</td><td>1</td></tr>\n",
       "\t<tr><td>1</td><td>56</td><td>125</td><td>249</td><td>1</td></tr>\n",
       "\t<tr><td>0</td><td>43</td><td>132</td><td>341</td><td>1</td></tr>\n",
       "\t<tr><td>⋮</td><td>⋮</td><td>⋮</td><td>⋮</td><td>⋮</td></tr>\n",
       "\t<tr><td>1</td><td>59</td><td>174</td><td>249</td><td>1</td></tr>\n",
       "\t<tr><td>0</td><td>53</td><td>130</td><td>246</td><td>0</td></tr>\n",
       "\t<tr><td>1</td><td>54</td><td>192</td><td>283</td><td>1</td></tr>\n",
       "\t<tr><td>0</td><td>51</td><td>140</td><td>298</td><td>1</td></tr>\n",
       "\t<tr><td>0</td><td>50</td><td>110</td><td>254</td><td>0</td></tr>\n",
       "\t<tr><td>1</td><td>56</td><td>120</td><td>193</td><td>0</td></tr>\n",
       "\t<tr><td>1</td><td>64</td><td>130</td><td>303</td><td>0</td></tr>\n",
       "\t<tr><td>1</td><td>54</td><td>108</td><td>267</td><td>0</td></tr>\n",
       "\t<tr><td>0</td><td>34</td><td>118</td><td>210</td><td>0</td></tr>\n",
       "\t<tr><td>0</td><td>54</td><td>110</td><td>206</td><td>1</td></tr>\n",
       "\t<tr><td>1</td><td>55</td><td>180</td><td>327</td><td>1</td></tr>\n",
       "\t<tr><td>1</td><td>49</td><td>118</td><td>149</td><td>1</td></tr>\n",
       "\t<tr><td>1</td><td>74</td><td>120</td><td>269</td><td>0</td></tr>\n",
       "\t<tr><td>1</td><td>54</td><td>160</td><td>201</td><td>0</td></tr>\n",
       "\t<tr><td>1</td><td>56</td><td>130</td><td>283</td><td>1</td></tr>\n",
       "\t<tr><td>0</td><td>42</td><td>120</td><td>295</td><td>0</td></tr>\n",
       "\t<tr><td>0</td><td>57</td><td>110</td><td>201</td><td>0</td></tr>\n",
       "\t<tr><td>1</td><td>64</td><td>128</td><td>263</td><td>0</td></tr>\n",
       "\t<tr><td>1</td><td>67</td><td>106</td><td>223</td><td>0</td></tr>\n",
       "\t<tr><td>1</td><td>76</td><td>140</td><td>197</td><td>0</td></tr>\n",
       "\t<tr><td>0</td><td>42</td><td>130</td><td>180</td><td>0</td></tr>\n",
       "\t<tr><td>1</td><td>64</td><td>170</td><td>227</td><td>0</td></tr>\n",
       "\t<tr><td>0</td><td>39</td><td>138</td><td>220</td><td>0</td></tr>\n",
       "\t<tr><td>1</td><td>57</td><td>154</td><td>232</td><td>1</td></tr>\n",
       "\t<tr><td>1</td><td>61</td><td>148</td><td>203</td><td>1</td></tr>\n",
       "\t<tr><td>0</td><td>44</td><td>120</td><td>169</td><td>1</td></tr>\n",
       "\t<tr><td>0</td><td>57</td><td>140</td><td>241</td><td>1</td></tr>\n",
       "\t<tr><td>1</td><td>68</td><td>144</td><td>193</td><td>1</td></tr>\n",
       "\t<tr><td>0</td><td>57</td><td>130</td><td>131</td><td>1</td></tr>\n",
       "\t<tr><td>0</td><td>38</td><td>138</td><td>175</td><td>0</td></tr>\n",
       "</tbody>\n",
       "</table>\n"
      ],
      "text/latex": [
       "A tibble: 76 × 5\n",
       "\\begin{tabular}{lllll}\n",
       " .pred\\_class & age & blood\\_pressure & cholesterol & disease\\_presence\\\\\n",
       " <fct> & <dbl> & <dbl> & <dbl> & <fct>\\\\\n",
       "\\hline\n",
       "\t 0 & 67 & 160 & 286 & 1\\\\\n",
       "\t 0 & 37 & 130 & 250 & 0\\\\\n",
       "\t 1 & 57 & 120 & 354 & 0\\\\\n",
       "\t 1 & 63 & 130 & 254 & 1\\\\\n",
       "\t 1 & 57 & 140 & 192 & 0\\\\\n",
       "\t 1 & 56 & 130 & 256 & 1\\\\\n",
       "\t 0 & 44 & 120 & 263 & 0\\\\\n",
       "\t 1 & 58 & 132 & 224 & 1\\\\\n",
       "\t 0 & 50 & 120 & 219 & 0\\\\\n",
       "\t 0 & 40 & 110 & 167 & 1\\\\\n",
       "\t 1 & 59 & 135 & 234 & 0\\\\\n",
       "\t 1 & 57 & 150 & 276 & 1\\\\\n",
       "\t 1 & 55 & 132 & 353 & 1\\\\\n",
       "\t 1 & 61 & 130 & 330 & 1\\\\\n",
       "\t 0 & 58 & 112 & 230 & 1\\\\\n",
       "\t 1 & 53 & 130 & 197 & 0\\\\\n",
       "\t 0 & 51 & 125 & 213 & 0\\\\\n",
       "\t 0 & 54 & 135 & 304 & 0\\\\\n",
       "\t 1 & 67 & 125 & 254 & 1\\\\\n",
       "\t 0 & 51 & 140 & 308 & 0\\\\\n",
       "\t 1 & 58 & 150 & 270 & 1\\\\\n",
       "\t 0 & 53 & 130 & 264 & 0\\\\\n",
       "\t 0 & 51 & 130 & 256 & 0\\\\\n",
       "\t 0 & 52 & 134 & 201 & 0\\\\\n",
       "\t 0 & 48 & 122 & 222 & 0\\\\\n",
       "\t 0 & 45 & 115 & 260 & 0\\\\\n",
       "\t 1 & 71 & 110 & 265 & 0\\\\\n",
       "\t 1 & 59 & 140 & 177 & 1\\\\\n",
       "\t 1 & 56 & 125 & 249 & 1\\\\\n",
       "\t 0 & 43 & 132 & 341 & 1\\\\\n",
       "\t ⋮ & ⋮ & ⋮ & ⋮ & ⋮\\\\\n",
       "\t 1 & 59 & 174 & 249 & 1\\\\\n",
       "\t 0 & 53 & 130 & 246 & 0\\\\\n",
       "\t 1 & 54 & 192 & 283 & 1\\\\\n",
       "\t 0 & 51 & 140 & 298 & 1\\\\\n",
       "\t 0 & 50 & 110 & 254 & 0\\\\\n",
       "\t 1 & 56 & 120 & 193 & 0\\\\\n",
       "\t 1 & 64 & 130 & 303 & 0\\\\\n",
       "\t 1 & 54 & 108 & 267 & 0\\\\\n",
       "\t 0 & 34 & 118 & 210 & 0\\\\\n",
       "\t 0 & 54 & 110 & 206 & 1\\\\\n",
       "\t 1 & 55 & 180 & 327 & 1\\\\\n",
       "\t 1 & 49 & 118 & 149 & 1\\\\\n",
       "\t 1 & 74 & 120 & 269 & 0\\\\\n",
       "\t 1 & 54 & 160 & 201 & 0\\\\\n",
       "\t 1 & 56 & 130 & 283 & 1\\\\\n",
       "\t 0 & 42 & 120 & 295 & 0\\\\\n",
       "\t 0 & 57 & 110 & 201 & 0\\\\\n",
       "\t 1 & 64 & 128 & 263 & 0\\\\\n",
       "\t 1 & 67 & 106 & 223 & 0\\\\\n",
       "\t 1 & 76 & 140 & 197 & 0\\\\\n",
       "\t 0 & 42 & 130 & 180 & 0\\\\\n",
       "\t 1 & 64 & 170 & 227 & 0\\\\\n",
       "\t 0 & 39 & 138 & 220 & 0\\\\\n",
       "\t 1 & 57 & 154 & 232 & 1\\\\\n",
       "\t 1 & 61 & 148 & 203 & 1\\\\\n",
       "\t 0 & 44 & 120 & 169 & 1\\\\\n",
       "\t 0 & 57 & 140 & 241 & 1\\\\\n",
       "\t 1 & 68 & 144 & 193 & 1\\\\\n",
       "\t 0 & 57 & 130 & 131 & 1\\\\\n",
       "\t 0 & 38 & 138 & 175 & 0\\\\\n",
       "\\end{tabular}\n"
      ],
      "text/markdown": [
       "\n",
       "A tibble: 76 × 5\n",
       "\n",
       "| .pred_class &lt;fct&gt; | age &lt;dbl&gt; | blood_pressure &lt;dbl&gt; | cholesterol &lt;dbl&gt; | disease_presence &lt;fct&gt; |\n",
       "|---|---|---|---|---|\n",
       "| 0 | 67 | 160 | 286 | 1 |\n",
       "| 0 | 37 | 130 | 250 | 0 |\n",
       "| 1 | 57 | 120 | 354 | 0 |\n",
       "| 1 | 63 | 130 | 254 | 1 |\n",
       "| 1 | 57 | 140 | 192 | 0 |\n",
       "| 1 | 56 | 130 | 256 | 1 |\n",
       "| 0 | 44 | 120 | 263 | 0 |\n",
       "| 1 | 58 | 132 | 224 | 1 |\n",
       "| 0 | 50 | 120 | 219 | 0 |\n",
       "| 0 | 40 | 110 | 167 | 1 |\n",
       "| 1 | 59 | 135 | 234 | 0 |\n",
       "| 1 | 57 | 150 | 276 | 1 |\n",
       "| 1 | 55 | 132 | 353 | 1 |\n",
       "| 1 | 61 | 130 | 330 | 1 |\n",
       "| 0 | 58 | 112 | 230 | 1 |\n",
       "| 1 | 53 | 130 | 197 | 0 |\n",
       "| 0 | 51 | 125 | 213 | 0 |\n",
       "| 0 | 54 | 135 | 304 | 0 |\n",
       "| 1 | 67 | 125 | 254 | 1 |\n",
       "| 0 | 51 | 140 | 308 | 0 |\n",
       "| 1 | 58 | 150 | 270 | 1 |\n",
       "| 0 | 53 | 130 | 264 | 0 |\n",
       "| 0 | 51 | 130 | 256 | 0 |\n",
       "| 0 | 52 | 134 | 201 | 0 |\n",
       "| 0 | 48 | 122 | 222 | 0 |\n",
       "| 0 | 45 | 115 | 260 | 0 |\n",
       "| 1 | 71 | 110 | 265 | 0 |\n",
       "| 1 | 59 | 140 | 177 | 1 |\n",
       "| 1 | 56 | 125 | 249 | 1 |\n",
       "| 0 | 43 | 132 | 341 | 1 |\n",
       "| ⋮ | ⋮ | ⋮ | ⋮ | ⋮ |\n",
       "| 1 | 59 | 174 | 249 | 1 |\n",
       "| 0 | 53 | 130 | 246 | 0 |\n",
       "| 1 | 54 | 192 | 283 | 1 |\n",
       "| 0 | 51 | 140 | 298 | 1 |\n",
       "| 0 | 50 | 110 | 254 | 0 |\n",
       "| 1 | 56 | 120 | 193 | 0 |\n",
       "| 1 | 64 | 130 | 303 | 0 |\n",
       "| 1 | 54 | 108 | 267 | 0 |\n",
       "| 0 | 34 | 118 | 210 | 0 |\n",
       "| 0 | 54 | 110 | 206 | 1 |\n",
       "| 1 | 55 | 180 | 327 | 1 |\n",
       "| 1 | 49 | 118 | 149 | 1 |\n",
       "| 1 | 74 | 120 | 269 | 0 |\n",
       "| 1 | 54 | 160 | 201 | 0 |\n",
       "| 1 | 56 | 130 | 283 | 1 |\n",
       "| 0 | 42 | 120 | 295 | 0 |\n",
       "| 0 | 57 | 110 | 201 | 0 |\n",
       "| 1 | 64 | 128 | 263 | 0 |\n",
       "| 1 | 67 | 106 | 223 | 0 |\n",
       "| 1 | 76 | 140 | 197 | 0 |\n",
       "| 0 | 42 | 130 | 180 | 0 |\n",
       "| 1 | 64 | 170 | 227 | 0 |\n",
       "| 0 | 39 | 138 | 220 | 0 |\n",
       "| 1 | 57 | 154 | 232 | 1 |\n",
       "| 1 | 61 | 148 | 203 | 1 |\n",
       "| 0 | 44 | 120 | 169 | 1 |\n",
       "| 0 | 57 | 140 | 241 | 1 |\n",
       "| 1 | 68 | 144 | 193 | 1 |\n",
       "| 0 | 57 | 130 | 131 | 1 |\n",
       "| 0 | 38 | 138 | 175 | 0 |\n",
       "\n"
      ],
      "text/plain": [
       "   .pred_class age blood_pressure cholesterol disease_presence\n",
       "1  0           67  160            286         1               \n",
       "2  0           37  130            250         0               \n",
       "3  1           57  120            354         0               \n",
       "4  1           63  130            254         1               \n",
       "5  1           57  140            192         0               \n",
       "6  1           56  130            256         1               \n",
       "7  0           44  120            263         0               \n",
       "8  1           58  132            224         1               \n",
       "9  0           50  120            219         0               \n",
       "10 0           40  110            167         1               \n",
       "11 1           59  135            234         0               \n",
       "12 1           57  150            276         1               \n",
       "13 1           55  132            353         1               \n",
       "14 1           61  130            330         1               \n",
       "15 0           58  112            230         1               \n",
       "16 1           53  130            197         0               \n",
       "17 0           51  125            213         0               \n",
       "18 0           54  135            304         0               \n",
       "19 1           67  125            254         1               \n",
       "20 0           51  140            308         0               \n",
       "21 1           58  150            270         1               \n",
       "22 0           53  130            264         0               \n",
       "23 0           51  130            256         0               \n",
       "24 0           52  134            201         0               \n",
       "25 0           48  122            222         0               \n",
       "26 0           45  115            260         0               \n",
       "27 1           71  110            265         0               \n",
       "28 1           59  140            177         1               \n",
       "29 1           56  125            249         1               \n",
       "30 0           43  132            341         1               \n",
       "⋮  ⋮           ⋮   ⋮              ⋮           ⋮               \n",
       "47 1           59  174            249         1               \n",
       "48 0           53  130            246         0               \n",
       "49 1           54  192            283         1               \n",
       "50 0           51  140            298         1               \n",
       "51 0           50  110            254         0               \n",
       "52 1           56  120            193         0               \n",
       "53 1           64  130            303         0               \n",
       "54 1           54  108            267         0               \n",
       "55 0           34  118            210         0               \n",
       "56 0           54  110            206         1               \n",
       "57 1           55  180            327         1               \n",
       "58 1           49  118            149         1               \n",
       "59 1           74  120            269         0               \n",
       "60 1           54  160            201         0               \n",
       "61 1           56  130            283         1               \n",
       "62 0           42  120            295         0               \n",
       "63 0           57  110            201         0               \n",
       "64 1           64  128            263         0               \n",
       "65 1           67  106            223         0               \n",
       "66 1           76  140            197         0               \n",
       "67 0           42  130            180         0               \n",
       "68 1           64  170            227         0               \n",
       "69 0           39  138            220         0               \n",
       "70 1           57  154            232         1               \n",
       "71 1           61  148            203         1               \n",
       "72 0           44  120            169         1               \n",
       "73 0           57  140            241         1               \n",
       "74 1           68  144            193         1               \n",
       "75 0           57  130            131         1               \n",
       "76 0           38  138            175         0               "
      ]
     },
     "metadata": {},
     "output_type": "display_data"
    }
   ],
   "source": [
    "prediction <- knn_fit |>\n",
    "            predict(disease_testing) |>\n",
    "            bind_cols(disease_testing)\n",
    "prediction"
   ]
  },
  {
   "cell_type": "markdown",
   "id": "15487f98-34ee-4118-a02c-0c86c67e855b",
   "metadata": {},
   "source": [
    "Using this, we can collect our metrics and see how accurate our classifier is."
   ]
  },
  {
   "cell_type": "code",
   "execution_count": 19,
   "id": "b48d880f-b06f-4792-8a53-068072008a0d",
   "metadata": {},
   "outputs": [
    {
     "data": {
      "text/html": [
       "<table class=\"dataframe\">\n",
       "<caption>A tibble: 2 × 3</caption>\n",
       "<thead>\n",
       "\t<tr><th scope=col>.metric</th><th scope=col>.estimator</th><th scope=col>.estimate</th></tr>\n",
       "\t<tr><th scope=col>&lt;chr&gt;</th><th scope=col>&lt;chr&gt;</th><th scope=col>&lt;dbl&gt;</th></tr>\n",
       "</thead>\n",
       "<tbody>\n",
       "\t<tr><td>accuracy</td><td>binary</td><td>0.5921053</td></tr>\n",
       "\t<tr><td>kap     </td><td>binary</td><td>0.1875862</td></tr>\n",
       "</tbody>\n",
       "</table>\n"
      ],
      "text/latex": [
       "A tibble: 2 × 3\n",
       "\\begin{tabular}{lll}\n",
       " .metric & .estimator & .estimate\\\\\n",
       " <chr> & <chr> & <dbl>\\\\\n",
       "\\hline\n",
       "\t accuracy & binary & 0.5921053\\\\\n",
       "\t kap      & binary & 0.1875862\\\\\n",
       "\\end{tabular}\n"
      ],
      "text/markdown": [
       "\n",
       "A tibble: 2 × 3\n",
       "\n",
       "| .metric &lt;chr&gt; | .estimator &lt;chr&gt; | .estimate &lt;dbl&gt; |\n",
       "|---|---|---|\n",
       "| accuracy | binary | 0.5921053 |\n",
       "| kap      | binary | 0.1875862 |\n",
       "\n"
      ],
      "text/plain": [
       "  .metric  .estimator .estimate\n",
       "1 accuracy binary     0.5921053\n",
       "2 kap      binary     0.1875862"
      ]
     },
     "metadata": {},
     "output_type": "display_data"
    }
   ],
   "source": [
    "accuracy<- prediction |>\n",
    "        metrics(truth = disease_presence, estimate = .pred_class)\n",
    "\n",
    "accuracy"
   ]
  },
  {
   "cell_type": "markdown",
   "id": "894d699c-9561-4b56-86a8-df645fd9f3df",
   "metadata": {},
   "source": [
    "This indicates to us that the accuracy of our classifier is roughly 59.2%."
   ]
  },
  {
   "cell_type": "markdown",
   "id": "c220477e-e322-4a07-95c7-0e2b61478841",
   "metadata": {},
   "source": [
    "# Discussion of Results"
   ]
  },
  {
   "cell_type": "markdown",
   "id": "6bc1e2c9-496f-42bf-895a-609b7f6d6cb1",
   "metadata": {},
   "source": [
    "Unfortunately, as we discovered, the accuracy of our classifier is not reliable enough for us to use it to predict the presence of heart disease in a patient, as it will only predict correctly 58% of the time."
   ]
  },
  {
   "cell_type": "markdown",
   "id": "b69b679a-110f-42a7-9284-629ca089914b",
   "metadata": {},
   "source": [
    "# Conclusion: Final Outcome and Significance of Results"
   ]
  },
  {
   "cell_type": "code",
   "execution_count": null,
   "id": "85989044-7597-4545-bf10-ec47f0a5b27d",
   "metadata": {},
   "outputs": [],
   "source": []
  },
  {
   "cell_type": "markdown",
   "id": "8b9e75fe-1130-4a00-a5cc-4aa29d55864e",
   "metadata": {},
   "source": [
    "Sources: https://memorialhermann.org/services/specialties/heart-and-vascular/healthy-living/education/heart-disease-and-age , https://familyheart.org/cholesterol-is-key , https://www.cdc.gov/diabetes/library/features/diabetes-and-heart.html"
   ]
  }
 ],
 "metadata": {
  "kernelspec": {
   "display_name": "R",
   "language": "R",
   "name": "ir"
  },
  "language_info": {
   "codemirror_mode": "r",
   "file_extension": ".r",
   "mimetype": "text/x-r-source",
   "name": "R",
   "pygments_lexer": "r",
   "version": "4.1.3"
  }
 },
 "nbformat": 4,
 "nbformat_minor": 5
}
